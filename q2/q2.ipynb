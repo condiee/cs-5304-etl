{
 "cells": [
  {
   "cell_type": "markdown",
   "metadata": {},
   "source": [
    "## CS/INFO 5304 Assignment 1: Data Preparation <br />\n"
   ]
  },
  {
   "cell_type": "code",
   "execution_count": 1,
   "metadata": {},
   "outputs": [],
   "source": [
    "import pandas as pd # all the functions in the panda library are allowed"
   ]
  },
  {
   "cell_type": "code",
   "execution_count": 2,
   "metadata": {},
   "outputs": [],
   "source": [
    "# Numpy, Scipy.stats, .etc are also allowed.\n",
    "import matplotlib.pyplot as plt"
   ]
  },
  {
   "cell_type": "code",
   "execution_count": 3,
   "metadata": {},
   "outputs": [],
   "source": [
    "ind = pd.read_pickle(\"Extrasensory_individual_data.p\")"
   ]
  },
  {
   "cell_type": "code",
   "execution_count": 4,
   "metadata": {},
   "outputs": [],
   "source": [
    "sen = pd.read_pickle(\"Extrasensory_sensor_data.p\")"
   ]
  },
  {
   "cell_type": "markdown",
   "metadata": {},
   "source": [
    "### Case 1: Actual screen time\n"
   ]
  },
  {
   "cell_type": "code",
   "execution_count": 5,
   "metadata": {},
   "outputs": [
    {
     "data": {
      "text/html": [
       "<div>\n",
       "<style scoped>\n",
       "    .dataframe tbody tr th:only-of-type {\n",
       "        vertical-align: middle;\n",
       "    }\n",
       "\n",
       "    .dataframe tbody tr th {\n",
       "        vertical-align: top;\n",
       "    }\n",
       "\n",
       "    .dataframe thead th {\n",
       "        text-align: right;\n",
       "    }\n",
       "</style>\n",
       "<table border=\"1\" class=\"dataframe\">\n",
       "  <thead>\n",
       "    <tr style=\"text-align: right;\">\n",
       "      <th></th>\n",
       "      <th>uuid</th>\n",
       "      <th>age</th>\n",
       "      <th>gender</th>\n",
       "      <th>system</th>\n",
       "      <th>hours_in_study</th>\n",
       "      <th>perceived_average_screen_time</th>\n",
       "      <th>actual_average_screen_time</th>\n",
       "    </tr>\n",
       "  </thead>\n",
       "  <tbody>\n",
       "    <tr>\n",
       "      <th>0</th>\n",
       "      <td>3600D531-0C55-44A7-AE95-A7A38519464E</td>\n",
       "      <td>24</td>\n",
       "      <td>male</td>\n",
       "      <td>Android</td>\n",
       "      <td>86</td>\n",
       "      <td>4.3</td>\n",
       "      <td>5.18</td>\n",
       "    </tr>\n",
       "    <tr>\n",
       "      <th>1</th>\n",
       "      <td>59EEFAE0-DEB0-4FFF-9250-54D2A03D0CF2</td>\n",
       "      <td>31</td>\n",
       "      <td>female</td>\n",
       "      <td>Android</td>\n",
       "      <td>125</td>\n",
       "      <td>4.2</td>\n",
       "      <td>2.31</td>\n",
       "    </tr>\n",
       "    <tr>\n",
       "      <th>2</th>\n",
       "      <td>CF722AA9-2533-4E51-9FEB-9EAC84EE9AAC</td>\n",
       "      <td>37</td>\n",
       "      <td>male</td>\n",
       "      <td>iOS</td>\n",
       "      <td>60</td>\n",
       "      <td>3.9</td>\n",
       "      <td>-1.00</td>\n",
       "    </tr>\n",
       "    <tr>\n",
       "      <th>3</th>\n",
       "      <td>5152A2DF-FAF3-4BA8-9CA9-E66B32671A53</td>\n",
       "      <td>22</td>\n",
       "      <td>male</td>\n",
       "      <td>iOS</td>\n",
       "      <td>110</td>\n",
       "      <td>-1.0</td>\n",
       "      <td>4.75</td>\n",
       "    </tr>\n",
       "    <tr>\n",
       "      <th>4</th>\n",
       "      <td>136562B6-95B2-483D-88DC-065F28409FD2</td>\n",
       "      <td>19</td>\n",
       "      <td>male</td>\n",
       "      <td>Android</td>\n",
       "      <td>103</td>\n",
       "      <td>1.1</td>\n",
       "      <td>1.55</td>\n",
       "    </tr>\n",
       "  </tbody>\n",
       "</table>\n",
       "</div>"
      ],
      "text/plain": [
       "                                   uuid  age  gender   system  hours_in_study  \\\n",
       "0  3600D531-0C55-44A7-AE95-A7A38519464E   24    male  Android              86   \n",
       "1  59EEFAE0-DEB0-4FFF-9250-54D2A03D0CF2   31  female  Android             125   \n",
       "2  CF722AA9-2533-4E51-9FEB-9EAC84EE9AAC   37    male      iOS              60   \n",
       "3  5152A2DF-FAF3-4BA8-9CA9-E66B32671A53   22    male      iOS             110   \n",
       "4  136562B6-95B2-483D-88DC-065F28409FD2   19    male  Android             103   \n",
       "\n",
       "   perceived_average_screen_time  actual_average_screen_time  \n",
       "0                            4.3                        5.18  \n",
       "1                            4.2                        2.31  \n",
       "2                            3.9                       -1.00  \n",
       "3                           -1.0                        4.75  \n",
       "4                            1.1                        1.55  "
      ]
     },
     "execution_count": 5,
     "metadata": {},
     "output_type": "execute_result"
    }
   ],
   "source": [
    "## Case 1 Problem A code (and optional graph)\n",
    "ind.head()"
   ]
  },
  {
   "cell_type": "code",
   "execution_count": 6,
   "metadata": {
    "scrolled": true
   },
   "outputs": [
    {
     "data": {
      "text/plain": [
       "Index(['uuid', 'age', 'gender', 'system', 'hours_in_study',\n",
       "       'perceived_average_screen_time', 'actual_average_screen_time'],\n",
       "      dtype='object')"
      ]
     },
     "execution_count": 6,
     "metadata": {},
     "output_type": "execute_result"
    }
   ],
   "source": [
    "ind.columns # DataFrame with the participant ID and columns about demographics/phone usage"
   ]
  },
  {
   "cell_type": "code",
   "execution_count": 7,
   "metadata": {},
   "outputs": [
    {
     "data": {
      "text/plain": [
       "(60, 7)"
      ]
     },
     "execution_count": 7,
     "metadata": {},
     "output_type": "execute_result"
    }
   ],
   "source": [
    "ind.shape"
   ]
  },
  {
   "cell_type": "code",
   "execution_count": 8,
   "metadata": {},
   "outputs": [
    {
     "data": {
      "text/plain": [
       "60"
      ]
     },
     "execution_count": 8,
     "metadata": {},
     "output_type": "execute_result"
    }
   ],
   "source": [
    "len(sen) # dict of the modified dataset with participant ID as the key\n",
    "# There are 60 participants in this dataset. "
   ]
  },
  {
   "cell_type": "code",
   "execution_count": 9,
   "metadata": {},
   "outputs": [
    {
     "data": {
      "text/plain": [
       "uuid                             False\n",
       "age                              False\n",
       "gender                           False\n",
       "system                           False\n",
       "hours_in_study                   False\n",
       "perceived_average_screen_time    False\n",
       "actual_average_screen_time       False\n",
       "dtype: bool"
      ]
     },
     "execution_count": 9,
     "metadata": {},
     "output_type": "execute_result"
    }
   ],
   "source": [
    "ind.isna().any()"
   ]
  },
  {
   "cell_type": "code",
   "execution_count": 10,
   "metadata": {},
   "outputs": [
    {
     "data": {
      "text/plain": [
       "count    60.000000\n",
       "mean      3.641333\n",
       "std       2.109741\n",
       "min      -1.000000\n",
       "25%       2.730000\n",
       "50%       3.675000\n",
       "75%       4.507500\n",
       "max      11.630000\n",
       "Name: actual_average_screen_time, dtype: float64"
      ]
     },
     "execution_count": 10,
     "metadata": {},
     "output_type": "execute_result"
    }
   ],
   "source": [
    "ind.actual_average_screen_time.describe()"
   ]
  },
  {
   "cell_type": "markdown",
   "metadata": {},
   "source": [
    "#### Writeup Answer to Problem A: \n",
    "How are missing values represented for this feature?\n"
   ]
  },
  {
   "cell_type": "markdown",
   "metadata": {},
   "source": [
    "*ANSWER:* Missing values are represented for actual_average_screen_time with a value of -1, which is possible here since the real value would have to be non-negative."
   ]
  },
  {
   "cell_type": "code",
   "execution_count": 11,
   "metadata": {},
   "outputs": [
    {
     "data": {
      "image/png": "[encoded data removed]",
      "text/plain": [
       "<Figure size 432x288 with 1 Axes>"
      ]
     },
     "metadata": {
      "needs_background": "light"
     },
     "output_type": "display_data"
    }
   ],
   "source": [
    "## Case 1 Problem B code and graph\n",
    "plt.hist(ind.actual_average_screen_time, bins=60);"
   ]
  },
  {
   "cell_type": "code",
   "execution_count": 12,
   "metadata": {},
   "outputs": [
    {
     "data": {
      "text/plain": [
       "count    56.000000\n",
       "mean      3.972857\n",
       "std       1.759580\n",
       "min       1.490000\n",
       "25%       3.175000\n",
       "50%       3.715000\n",
       "75%       4.560000\n",
       "max      11.630000\n",
       "Name: actual_average_screen_time, dtype: float64"
      ]
     },
     "execution_count": 12,
     "metadata": {},
     "output_type": "execute_result"
    }
   ],
   "source": [
    "no_nulls = ind[ind.actual_average_screen_time>=0]\n",
    "no_nulls.actual_average_screen_time.describe()"
   ]
  },
  {
   "cell_type": "code",
   "execution_count": 13,
   "metadata": {
    "scrolled": true
   },
   "outputs": [
    {
     "data": {
      "image/png": "[encoded data removed]",
      "text/plain": [
       "<Figure size 432x288 with 1 Axes>"
      ]
     },
     "metadata": {
      "needs_background": "light"
     },
     "output_type": "display_data"
    }
   ],
   "source": [
    "plt.hist(no_nulls.actual_average_screen_time, bins=len(no_nulls));"
   ]
  },
  {
   "cell_type": "code",
   "execution_count": 106,
   "metadata": {},
   "outputs": [
    {
     "data": {
      "text/plain": [
       "1.3250000000000002"
      ]
     },
     "execution_count": 106,
     "metadata": {},
     "output_type": "execute_result"
    }
   ],
   "source": [
    "# An outlier is defined as being any point of data that lies over 1.5 IQRs\n",
    "# below the first quartile (Q1) or above the third quartile (Q3) in a data set\n",
    "\n",
    "# IQR = 75th percentile - 25th percentile\n",
    "iqr = 4.5 - 3.175\n",
    "iqr"
   ]
  },
  {
   "cell_type": "code",
   "execution_count": 105,
   "metadata": {},
   "outputs": [
    {
     "data": {
      "text/plain": [
       "1.1874999999999996"
      ]
     },
     "execution_count": 105,
     "metadata": {},
     "output_type": "execute_result"
    }
   ],
   "source": [
    "# no low outliers (magic percentile numbers are from .describe() above)\n",
    "3.175000 - 1.5*iqr"
   ]
  },
  {
   "cell_type": "code",
   "execution_count": 108,
   "metadata": {},
   "outputs": [
    {
     "data": {
      "text/html": [
       "<div>\n",
       "<style scoped>\n",
       "    .dataframe tbody tr th:only-of-type {\n",
       "        vertical-align: middle;\n",
       "    }\n",
       "\n",
       "    .dataframe tbody tr th {\n",
       "        vertical-align: top;\n",
       "    }\n",
       "\n",
       "    .dataframe thead th {\n",
       "        text-align: right;\n",
       "    }\n",
       "</style>\n",
       "<table border=\"1\" class=\"dataframe\">\n",
       "  <thead>\n",
       "    <tr style=\"text-align: right;\">\n",
       "      <th></th>\n",
       "      <th>uuid</th>\n",
       "      <th>age</th>\n",
       "      <th>gender</th>\n",
       "      <th>system</th>\n",
       "      <th>hours_in_study</th>\n",
       "      <th>perceived_average_screen_time</th>\n",
       "      <th>actual_average_screen_time</th>\n",
       "    </tr>\n",
       "  </thead>\n",
       "  <tbody>\n",
       "  </tbody>\n",
       "</table>\n",
       "</div>"
      ],
      "text/plain": [
       "Empty DataFrame\n",
       "Columns: [uuid, age, gender, system, hours_in_study, perceived_average_screen_time, actual_average_screen_time]\n",
       "Index: []"
      ]
     },
     "execution_count": 108,
     "metadata": {},
     "output_type": "execute_result"
    }
   ],
   "source": [
    "no_nulls.loc[no_nulls.actual_average_screen_time < 1.1874999999999996] # 2"
   ]
  },
  {
   "cell_type": "code",
   "execution_count": 107,
   "metadata": {},
   "outputs": [
    {
     "data": {
      "text/plain": [
       "6.547499999999999"
      ]
     },
     "execution_count": 107,
     "metadata": {},
     "output_type": "execute_result"
    }
   ],
   "source": [
    "# high outliers\n",
    "4.56 + 1.5*iqr"
   ]
  },
  {
   "cell_type": "code",
   "execution_count": 109,
   "metadata": {
    "scrolled": false
   },
   "outputs": [
    {
     "data": {
      "text/html": [
       "<div>\n",
       "<style scoped>\n",
       "    .dataframe tbody tr th:only-of-type {\n",
       "        vertical-align: middle;\n",
       "    }\n",
       "\n",
       "    .dataframe tbody tr th {\n",
       "        vertical-align: top;\n",
       "    }\n",
       "\n",
       "    .dataframe thead th {\n",
       "        text-align: right;\n",
       "    }\n",
       "</style>\n",
       "<table border=\"1\" class=\"dataframe\">\n",
       "  <thead>\n",
       "    <tr style=\"text-align: right;\">\n",
       "      <th></th>\n",
       "      <th>uuid</th>\n",
       "      <th>age</th>\n",
       "      <th>gender</th>\n",
       "      <th>system</th>\n",
       "      <th>hours_in_study</th>\n",
       "      <th>perceived_average_screen_time</th>\n",
       "      <th>actual_average_screen_time</th>\n",
       "    </tr>\n",
       "  </thead>\n",
       "  <tbody>\n",
       "    <tr>\n",
       "      <th>15</th>\n",
       "      <td>1155FF54-63D3-4AB2-9863-8385D0BD0A13</td>\n",
       "      <td>23</td>\n",
       "      <td>male</td>\n",
       "      <td>Android</td>\n",
       "      <td>44</td>\n",
       "      <td>-1.0</td>\n",
       "      <td>10.78</td>\n",
       "    </tr>\n",
       "    <tr>\n",
       "      <th>44</th>\n",
       "      <td>33A85C34-CFE4-4732-9E73-0A7AC861B27A</td>\n",
       "      <td>29</td>\n",
       "      <td>male</td>\n",
       "      <td>Android</td>\n",
       "      <td>102</td>\n",
       "      <td>-1.0</td>\n",
       "      <td>11.63</td>\n",
       "    </tr>\n",
       "  </tbody>\n",
       "</table>\n",
       "</div>"
      ],
      "text/plain": [
       "                                    uuid  age gender   system  hours_in_study  \\\n",
       "15  1155FF54-63D3-4AB2-9863-8385D0BD0A13   23   male  Android              44   \n",
       "44  33A85C34-CFE4-4732-9E73-0A7AC861B27A   29   male  Android             102   \n",
       "\n",
       "    perceived_average_screen_time  actual_average_screen_time  \n",
       "15                           -1.0                       10.78  \n",
       "44                           -1.0                       11.63  "
      ]
     },
     "execution_count": 109,
     "metadata": {},
     "output_type": "execute_result"
    }
   ],
   "source": [
    "no_nulls.loc[no_nulls.actual_average_screen_time > 6.547499999999999] # 2"
   ]
  },
  {
   "cell_type": "code",
   "execution_count": 18,
   "metadata": {},
   "outputs": [],
   "source": [
    "# skewness\n",
    "from scipy.stats import skew"
   ]
  },
  {
   "cell_type": "code",
   "execution_count": 19,
   "metadata": {},
   "outputs": [
    {
     "data": {
      "text/plain": [
       "2.397430884216136"
      ]
     },
     "execution_count": 19,
     "metadata": {},
     "output_type": "execute_result"
    }
   ],
   "source": [
    "# For normally distributed data, the skewness should be about zero. \n",
    "skew(no_nulls.actual_average_screen_time)\n",
    "# a skewness value greater than zero means that there is more weight\n",
    "# in the right tail of the distribution."
   ]
  },
  {
   "cell_type": "markdown",
   "metadata": {},
   "source": [
    "#### Writeup Answer to Problem B: \n",
    " Does it have outliers?If so, how many?\n",
    " Is it skewed? If so, is it left skewed or right skewed? What’s the skewness? "
   ]
  },
  {
   "cell_type": "markdown",
   "metadata": {},
   "source": [
    "*ANSWER:* The distribution is skewed slightly right (positively); the tail is on the right and there are also two outliers on the high end."
   ]
  },
  {
   "cell_type": "code",
   "execution_count": 20,
   "metadata": {},
   "outputs": [],
   "source": [
    "## Case 1 Problem C code and graph\n",
    "# method 1: mean\n",
    "imp_mean = ind.copy()"
   ]
  },
  {
   "cell_type": "code",
   "execution_count": 21,
   "metadata": {
    "scrolled": true
   },
   "outputs": [],
   "source": [
    "imp_mean.loc[imp_mean.actual_average_screen_time < 0, \"actual_average_screen_time\"] = imp_mean.actual_average_screen_time.mean()"
   ]
  },
  {
   "cell_type": "code",
   "execution_count": 22,
   "metadata": {},
   "outputs": [
    {
     "data": {
      "text/plain": [
       "1.49"
      ]
     },
     "execution_count": 22,
     "metadata": {},
     "output_type": "execute_result"
    }
   ],
   "source": [
    "imp_mean.actual_average_screen_time.min()"
   ]
  },
  {
   "cell_type": "code",
   "execution_count": 23,
   "metadata": {},
   "outputs": [
    {
     "data": {
      "text/plain": [
       "1.49"
      ]
     },
     "execution_count": 23,
     "metadata": {},
     "output_type": "execute_result"
    }
   ],
   "source": [
    "# method 2: median\n",
    "imp_med = ind.copy()\n",
    "imp_med.loc[imp_med.actual_average_screen_time < 0, \"actual_average_screen_time\"] = imp_med.actual_average_screen_time.median()\n",
    "imp_med.actual_average_screen_time.min()"
   ]
  },
  {
   "cell_type": "code",
   "execution_count": 24,
   "metadata": {},
   "outputs": [
    {
     "data": {
      "text/plain": [
       "count    56.000000\n",
       "mean      3.972857\n",
       "std       1.759580\n",
       "min       1.490000\n",
       "25%       3.175000\n",
       "50%       3.715000\n",
       "75%       4.560000\n",
       "max      11.630000\n",
       "Name: actual_average_screen_time, dtype: float64"
      ]
     },
     "execution_count": 24,
     "metadata": {},
     "output_type": "execute_result"
    }
   ],
   "source": [
    "# method 3: random value within range\n",
    "no_nulls.actual_average_screen_time.describe()"
   ]
  },
  {
   "cell_type": "code",
   "execution_count": 25,
   "metadata": {},
   "outputs": [],
   "source": [
    "import random"
   ]
  },
  {
   "cell_type": "code",
   "execution_count": 26,
   "metadata": {},
   "outputs": [
    {
     "data": {
      "text/plain": [
       "1.49"
      ]
     },
     "execution_count": 26,
     "metadata": {},
     "output_type": "execute_result"
    }
   ],
   "source": [
    "imp_rand = ind.copy()\n",
    "imp_rand.loc[imp_rand.actual_average_screen_time < 0, \"actual_average_screen_time\"] = random.randint(3,5)\n",
    "imp_rand.actual_average_screen_time.min()"
   ]
  },
  {
   "cell_type": "code",
   "execution_count": 27,
   "metadata": {},
   "outputs": [
    {
     "data": {
      "image/png": "[encoded data removed]",
      "text/plain": [
       "<Figure size 1080x576 with 1 Axes>"
      ]
     },
     "metadata": {
      "needs_background": "light"
     },
     "output_type": "display_data"
    }
   ],
   "source": [
    "plt.figure(figsize=(15,8))\n",
    "plt.hist([ind.actual_average_screen_time, imp_mean.actual_average_screen_time, imp_med.actual_average_screen_time, imp_rand.actual_average_screen_time],bins=60,label=['original','mean', 'median', 'random']);\n",
    "plt.legend(loc='upper right');"
   ]
  },
  {
   "cell_type": "markdown",
   "metadata": {},
   "source": [
    "#### Writeup Answer to Problem C: \n",
    "How did you choose the random value from method 3)? \n",
    "How do the distributions look like after you implement the three filling methods? (Compare them)\n"
   ]
  },
  {
   "cell_type": "code",
   "execution_count": 28,
   "metadata": {},
   "outputs": [],
   "source": [
    "import numpy as np"
   ]
  },
  {
   "cell_type": "code",
   "execution_count": 29,
   "metadata": {
    "scrolled": true
   },
   "outputs": [],
   "source": [
    "## Case 1 Problem D code and graph\n",
    "dist = np.random.normal(3.75, 1.25, len(ind))"
   ]
  },
  {
   "cell_type": "code",
   "execution_count": 30,
   "metadata": {},
   "outputs": [
    {
     "data": {
      "image/png": "[encoded data removed]",
      "text/plain": [
       "<Figure size 432x288 with 1 Axes>"
      ]
     },
     "metadata": {
      "needs_background": "light"
     },
     "output_type": "display_data"
    }
   ],
   "source": [
    "plt.hist(dist, bins=60);"
   ]
  },
  {
   "cell_type": "code",
   "execution_count": 31,
   "metadata": {},
   "outputs": [],
   "source": [
    "from scipy.stats import ttest_ind"
   ]
  },
  {
   "cell_type": "code",
   "execution_count": 32,
   "metadata": {},
   "outputs": [
    {
     "data": {
      "text/plain": [
       "Ttest_indResult(statistic=-1.8693125637540418, pvalue=0.06405835635359469)"
      ]
     },
     "execution_count": 32,
     "metadata": {},
     "output_type": "execute_result"
    }
   ],
   "source": [
    "#mean\n",
    "ttest_ind(dist, imp_mean.actual_average_screen_time)"
   ]
  },
  {
   "cell_type": "code",
   "execution_count": 33,
   "metadata": {},
   "outputs": [
    {
     "data": {
      "text/plain": [
       "Ttest_indResult(statistic=-1.877830045117614, pvalue=0.06287302095919334)"
      ]
     },
     "execution_count": 33,
     "metadata": {},
     "output_type": "execute_result"
    }
   ],
   "source": [
    "#median\n",
    "ttest_ind(dist, imp_med.actual_average_screen_time)"
   ]
  },
  {
   "cell_type": "code",
   "execution_count": 34,
   "metadata": {},
   "outputs": [
    {
     "data": {
      "text/plain": [
       "Ttest_indResult(statistic=-2.187024288167496, pvalue=0.03071326050605608)"
      ]
     },
     "execution_count": 34,
     "metadata": {},
     "output_type": "execute_result"
    }
   ],
   "source": [
    "#random\n",
    "ttest_ind(dist, imp_rand.actual_average_screen_time)"
   ]
  },
  {
   "cell_type": "markdown",
   "metadata": {},
   "source": [
    "#### Answer to Problem D: \n",
    "Report the three p-values. Which one of the filling methods reconstruct this feature to be closest to the research distribution? Why do you think this is the case?\n"
   ]
  },
  {
   "cell_type": "markdown",
   "metadata": {},
   "source": [
    "*ANSWER:* The p-value for the t-test between the randomly generated distribution and the mean-imputed data is 0.06 > 0.05. The one for the median-imputed data is also 0.06. But the one for the randomly imputed data is 0.03<0.05 and therefore statistically significant, indicating that it is closest in resembling the research distribution (they could be drawn from the same distribution instead of by chance). This makes sense since both are randomly generated and therefore more representative of real data than when we simply fill all missing values with the same number hoping the missing values were around the average or median value."
   ]
  },
  {
   "cell_type": "markdown",
   "metadata": {},
   "source": [
    "### Case 2: Perceived average screen time"
   ]
  },
  {
   "cell_type": "code",
   "execution_count": 87,
   "metadata": {},
   "outputs": [
    {
     "data": {
      "image/png": "[encoded data removed]",
      "text/plain": [
       "<Figure size 432x288 with 1 Axes>"
      ]
     },
     "metadata": {
      "needs_background": "light"
     },
     "output_type": "display_data"
    }
   ],
   "source": [
    "## Case 2 Problem A code and histogram\n",
    "no_missing = ind[ind.perceived_average_screen_time>=0]\n",
    "plt.hist(no_missing.perceived_average_screen_time, bins=60);"
   ]
  },
  {
   "cell_type": "code",
   "execution_count": 88,
   "metadata": {},
   "outputs": [
    {
     "data": {
      "text/plain": [
       "count    53.000000\n",
       "mean      3.692453\n",
       "std       0.863768\n",
       "min       1.100000\n",
       "25%       3.100000\n",
       "50%       3.800000\n",
       "75%       4.200000\n",
       "max       6.000000\n",
       "Name: perceived_average_screen_time, dtype: float64"
      ]
     },
     "execution_count": 88,
     "metadata": {},
     "output_type": "execute_result"
    }
   ],
   "source": [
    "no_missing.perceived_average_screen_time.describe()"
   ]
  },
  {
   "cell_type": "code",
   "execution_count": 110,
   "metadata": {},
   "outputs": [
    {
     "data": {
      "text/plain": [
       "1.1"
      ]
     },
     "execution_count": 110,
     "metadata": {},
     "output_type": "execute_result"
    }
   ],
   "source": [
    "# IQR = 75th percentile - 25th percentile\n",
    "iqr = 4.2 - 3.1\n",
    "iqr"
   ]
  },
  {
   "cell_type": "code",
   "execution_count": 111,
   "metadata": {},
   "outputs": [
    {
     "data": {
      "text/plain": [
       "1.45"
      ]
     },
     "execution_count": 111,
     "metadata": {},
     "output_type": "execute_result"
    }
   ],
   "source": [
    "# low outliers\n",
    "3.1 - 1.5 * iqr"
   ]
  },
  {
   "cell_type": "code",
   "execution_count": 112,
   "metadata": {},
   "outputs": [
    {
     "data": {
      "text/html": [
       "<div>\n",
       "<style scoped>\n",
       "    .dataframe tbody tr th:only-of-type {\n",
       "        vertical-align: middle;\n",
       "    }\n",
       "\n",
       "    .dataframe tbody tr th {\n",
       "        vertical-align: top;\n",
       "    }\n",
       "\n",
       "    .dataframe thead th {\n",
       "        text-align: right;\n",
       "    }\n",
       "</style>\n",
       "<table border=\"1\" class=\"dataframe\">\n",
       "  <thead>\n",
       "    <tr style=\"text-align: right;\">\n",
       "      <th></th>\n",
       "      <th>uuid</th>\n",
       "      <th>age</th>\n",
       "      <th>gender</th>\n",
       "      <th>system</th>\n",
       "      <th>hours_in_study</th>\n",
       "      <th>perceived_average_screen_time</th>\n",
       "      <th>actual_average_screen_time</th>\n",
       "      <th>intense</th>\n",
       "    </tr>\n",
       "  </thead>\n",
       "  <tbody>\n",
       "    <tr>\n",
       "      <th>4</th>\n",
       "      <td>136562B6-95B2-483D-88DC-065F28409FD2</td>\n",
       "      <td>19</td>\n",
       "      <td>male</td>\n",
       "      <td>Android</td>\n",
       "      <td>103</td>\n",
       "      <td>1.1</td>\n",
       "      <td>1.55</td>\n",
       "      <td>0</td>\n",
       "    </tr>\n",
       "  </tbody>\n",
       "</table>\n",
       "</div>"
      ],
      "text/plain": [
       "                                   uuid  age gender   system  hours_in_study  \\\n",
       "4  136562B6-95B2-483D-88DC-065F28409FD2   19   male  Android             103   \n",
       "\n",
       "   perceived_average_screen_time  actual_average_screen_time  intense  \n",
       "4                            1.1                        1.55        0  "
      ]
     },
     "execution_count": 112,
     "metadata": {},
     "output_type": "execute_result"
    }
   ],
   "source": [
    "no_missing[no_missing.perceived_average_screen_time<=1.45]"
   ]
  },
  {
   "cell_type": "code",
   "execution_count": 113,
   "metadata": {},
   "outputs": [
    {
     "data": {
      "text/plain": [
       "5.8500000000000005"
      ]
     },
     "execution_count": 113,
     "metadata": {},
     "output_type": "execute_result"
    }
   ],
   "source": [
    "# high outliers\n",
    "4.2 + 1.5 * iqr"
   ]
  },
  {
   "cell_type": "code",
   "execution_count": 114,
   "metadata": {},
   "outputs": [
    {
     "data": {
      "text/html": [
       "<div>\n",
       "<style scoped>\n",
       "    .dataframe tbody tr th:only-of-type {\n",
       "        vertical-align: middle;\n",
       "    }\n",
       "\n",
       "    .dataframe tbody tr th {\n",
       "        vertical-align: top;\n",
       "    }\n",
       "\n",
       "    .dataframe thead th {\n",
       "        text-align: right;\n",
       "    }\n",
       "</style>\n",
       "<table border=\"1\" class=\"dataframe\">\n",
       "  <thead>\n",
       "    <tr style=\"text-align: right;\">\n",
       "      <th></th>\n",
       "      <th>uuid</th>\n",
       "      <th>age</th>\n",
       "      <th>gender</th>\n",
       "      <th>system</th>\n",
       "      <th>hours_in_study</th>\n",
       "      <th>perceived_average_screen_time</th>\n",
       "      <th>actual_average_screen_time</th>\n",
       "      <th>intense</th>\n",
       "    </tr>\n",
       "  </thead>\n",
       "  <tbody>\n",
       "    <tr>\n",
       "      <th>32</th>\n",
       "      <td>5EF64122-B513-46AE-BCF1-E62AAC285D2C</td>\n",
       "      <td>36</td>\n",
       "      <td>female</td>\n",
       "      <td>iOS</td>\n",
       "      <td>65</td>\n",
       "      <td>6.0</td>\n",
       "      <td>6.06</td>\n",
       "      <td>1</td>\n",
       "    </tr>\n",
       "  </tbody>\n",
       "</table>\n",
       "</div>"
      ],
      "text/plain": [
       "                                    uuid  age  gender system  hours_in_study  \\\n",
       "32  5EF64122-B513-46AE-BCF1-E62AAC285D2C   36  female    iOS              65   \n",
       "\n",
       "    perceived_average_screen_time  actual_average_screen_time  intense  \n",
       "32                            6.0                        6.06        1  "
      ]
     },
     "execution_count": 114,
     "metadata": {},
     "output_type": "execute_result"
    }
   ],
   "source": [
    "no_missing[no_missing.perceived_average_screen_time>=5.8500000000000005]"
   ]
  },
  {
   "cell_type": "code",
   "execution_count": 93,
   "metadata": {},
   "outputs": [
    {
     "data": {
      "text/plain": [
       "-0.20827754822424274"
      ]
     },
     "execution_count": 93,
     "metadata": {},
     "output_type": "execute_result"
    }
   ],
   "source": [
    "skew(no_missing.perceived_average_screen_time)\n",
    "# a skewness value greater than zero means that there is more weight\n",
    "# in the right tail of the distribution."
   ]
  },
  {
   "cell_type": "markdown",
   "metadata": {},
   "source": [
    "#### Writeup Answer to Problem B: \n",
    " Does it have outliers?If so, how many? \n",
    " Is it skewed? If so, is it left skewed or right skewed? What’s the skewness? \n"
   ]
  },
  {
   "cell_type": "markdown",
   "metadata": {},
   "source": [
    "*ANSWER:* There are 2 outliers, one low and one high. The distribution is skewed very slightly to the left, with a skewness of -0.2."
   ]
  },
  {
   "cell_type": "code",
   "execution_count": 144,
   "metadata": {
    "scrolled": true
   },
   "outputs": [
    {
     "data": {
      "text/html": [
       "<div>\n",
       "<style scoped>\n",
       "    .dataframe tbody tr th:only-of-type {\n",
       "        vertical-align: middle;\n",
       "    }\n",
       "\n",
       "    .dataframe tbody tr th {\n",
       "        vertical-align: top;\n",
       "    }\n",
       "\n",
       "    .dataframe thead th {\n",
       "        text-align: right;\n",
       "    }\n",
       "</style>\n",
       "<table border=\"1\" class=\"dataframe\">\n",
       "  <thead>\n",
       "    <tr style=\"text-align: right;\">\n",
       "      <th></th>\n",
       "      <th>uuid</th>\n",
       "      <th>age</th>\n",
       "      <th>gender</th>\n",
       "      <th>system</th>\n",
       "      <th>hours_in_study</th>\n",
       "      <th>perceived_average_screen_time</th>\n",
       "      <th>actual_average_screen_time</th>\n",
       "      <th>intense</th>\n",
       "    </tr>\n",
       "  </thead>\n",
       "  <tbody>\n",
       "    <tr>\n",
       "      <th>15</th>\n",
       "      <td>1155FF54-63D3-4AB2-9863-8385D0BD0A13</td>\n",
       "      <td>23</td>\n",
       "      <td>male</td>\n",
       "      <td>Android</td>\n",
       "      <td>44</td>\n",
       "      <td>-1.0</td>\n",
       "      <td>10.78</td>\n",
       "      <td>True</td>\n",
       "    </tr>\n",
       "    <tr>\n",
       "      <th>32</th>\n",
       "      <td>5EF64122-B513-46AE-BCF1-E62AAC285D2C</td>\n",
       "      <td>36</td>\n",
       "      <td>female</td>\n",
       "      <td>iOS</td>\n",
       "      <td>65</td>\n",
       "      <td>6.0</td>\n",
       "      <td>6.06</td>\n",
       "      <td>True</td>\n",
       "    </tr>\n",
       "    <tr>\n",
       "      <th>44</th>\n",
       "      <td>33A85C34-CFE4-4732-9E73-0A7AC861B27A</td>\n",
       "      <td>29</td>\n",
       "      <td>male</td>\n",
       "      <td>Android</td>\n",
       "      <td>102</td>\n",
       "      <td>-1.0</td>\n",
       "      <td>11.63</td>\n",
       "      <td>True</td>\n",
       "    </tr>\n",
       "    <tr>\n",
       "      <th>45</th>\n",
       "      <td>5119D0F8-FCA8-4184-A4EB-19421A40DE0D</td>\n",
       "      <td>25</td>\n",
       "      <td>female</td>\n",
       "      <td>Android</td>\n",
       "      <td>110</td>\n",
       "      <td>3.2</td>\n",
       "      <td>5.94</td>\n",
       "      <td>True</td>\n",
       "    </tr>\n",
       "  </tbody>\n",
       "</table>\n",
       "</div>"
      ],
      "text/plain": [
       "                                    uuid  age  gender   system  \\\n",
       "15  1155FF54-63D3-4AB2-9863-8385D0BD0A13   23    male  Android   \n",
       "32  5EF64122-B513-46AE-BCF1-E62AAC285D2C   36  female      iOS   \n",
       "44  33A85C34-CFE4-4732-9E73-0A7AC861B27A   29    male  Android   \n",
       "45  5119D0F8-FCA8-4184-A4EB-19421A40DE0D   25  female  Android   \n",
       "\n",
       "    hours_in_study  perceived_average_screen_time  actual_average_screen_time  \\\n",
       "15              44                           -1.0                       10.78   \n",
       "32              65                            6.0                        6.06   \n",
       "44             102                           -1.0                       11.63   \n",
       "45             110                            3.2                        5.94   \n",
       "\n",
       "    intense  \n",
       "15     True  \n",
       "32     True  \n",
       "44     True  \n",
       "45     True  "
      ]
     },
     "execution_count": 144,
     "metadata": {},
     "output_type": "execute_result"
    }
   ],
   "source": [
    "## Case 2 Problem B code\n",
    "no_nulls[no_nulls.actual_average_screen_time > (no_nulls.actual_average_screen_time.mean() + no_nulls.actual_average_screen_time.std())]\n",
    "# use no_nulls again for rows where actual_average_screen_time is not null"
   ]
  },
  {
   "cell_type": "markdown",
   "metadata": {},
   "source": [
    "How many of them are intense phone users?"
   ]
  },
  {
   "cell_type": "markdown",
   "metadata": {},
   "source": [
    "*ANSWER:* 4 individuals are \"intense phone users\" according to their actual average screen time when looking at individuals for whom we have actual screen time data."
   ]
  },
  {
   "cell_type": "code",
   "execution_count": 165,
   "metadata": {},
   "outputs": [],
   "source": [
    "## Case 2 Problem C code and graph\n",
    "no_nulls['missing'] = [True if time < 0 else False for time in no_nulls.perceived_average_screen_time]"
   ]
  },
  {
   "cell_type": "code",
   "execution_count": 167,
   "metadata": {
    "scrolled": true
   },
   "outputs": [],
   "source": [
    "# If the user’s actual screen time is missing, you should not count that user as either intensive OR NON-INTENSIVE\n",
    "no_nulls['intense'] = [True if screen_time > (no_nulls.actual_average_screen_time.mean() + no_nulls.actual_average_screen_time.std()) else False for screen_time in no_nulls.actual_average_screen_time]"
   ]
  },
  {
   "cell_type": "code",
   "execution_count": 152,
   "metadata": {},
   "outputs": [],
   "source": [
    "# chi-square test: compare observed results with expected results\n",
    "from scipy.stats import chi2_contingency"
   ]
  },
  {
   "cell_type": "markdown",
   "metadata": {},
   "source": [
    "What is the p-value? Do you think they are correlated? What does this mean? Do you think this feature is MAR or MNAR? "
   ]
  },
  {
   "cell_type": "code",
   "execution_count": 173,
   "metadata": {},
   "outputs": [
    {
     "name": "stdout",
     "output_type": "stream",
     "text": [
      "p value is  0.11666446478102341\n",
      "Variables are independent (null hypothesis holds true)\n"
     ]
    }
   ],
   "source": [
    "# defining the table\n",
    "cont_tbl = pd.crosstab(no_nulls['missing'], no_nulls['intense'])\n",
    "stat, p, dof, expected = chi2_contingency(cont_tbl)\n",
    "  \n",
    "print(\"p value is \", p)\n",
    "if p <= 0.05:\n",
    "    print('Variables are dependent (reject null hypothesis)')\n",
    "else:\n",
    "    print('Variables are independent (null hypothesis holds true)')"
   ]
  },
  {
   "cell_type": "markdown",
   "metadata": {},
   "source": [
    "*ANSWER:* \n",
    "\n",
    "It seems like missing values for perceived screen time are not correlated with intense phone users. Therefore, I think that perceived average screen time is Missing At Random, meaning that the cause of the missing data is unrelated to the missing values of this variable (ex. people are *not* necessarily embarrassed by their screen time) but may be related to the observed values of other variables."
   ]
  },
  {
   "cell_type": "markdown",
   "metadata": {},
   "source": [
    "### Case 3: Location"
   ]
  },
  {
   "cell_type": "code",
   "execution_count": 38,
   "metadata": {},
   "outputs": [],
   "source": [
    "## Case 3 Problem A code (graph)\n",
    "\n",
    "# location data (location:raw_latitude) are consistently lost when their\n",
    "# battery level (lf_measurements:battery_level) is below 15%"
   ]
  },
  {
   "cell_type": "code",
   "execution_count": 233,
   "metadata": {
    "scrolled": false
   },
   "outputs": [
    {
     "data": {
      "text/html": [
       "<div>\n",
       "<style scoped>\n",
       "    .dataframe tbody tr th:only-of-type {\n",
       "        vertical-align: middle;\n",
       "    }\n",
       "\n",
       "    .dataframe tbody tr th {\n",
       "        vertical-align: top;\n",
       "    }\n",
       "\n",
       "    .dataframe thead th {\n",
       "        text-align: right;\n",
       "    }\n",
       "</style>\n",
       "<table border=\"1\" class=\"dataframe\">\n",
       "  <thead>\n",
       "    <tr style=\"text-align: right;\">\n",
       "      <th></th>\n",
       "      <th>location:raw_latitude</th>\n",
       "      <th>location:raw_longitude</th>\n",
       "      <th>raw_acc:3d:mean_x</th>\n",
       "      <th>raw_acc:3d:mean_y</th>\n",
       "      <th>raw_acc:3d:mean_z</th>\n",
       "      <th>discrete:app_state:is_active</th>\n",
       "      <th>discrete:app_state:is_inactive</th>\n",
       "      <th>discrete:app_state:is_background</th>\n",
       "      <th>discrete:app_state:missing</th>\n",
       "      <th>lf_measurements:battery_level</th>\n",
       "    </tr>\n",
       "  </thead>\n",
       "  <tbody>\n",
       "    <tr>\n",
       "      <th>0</th>\n",
       "      <td>32.882483</td>\n",
       "      <td>-117.234601</td>\n",
       "      <td>0.022972</td>\n",
       "      <td>-0.002678</td>\n",
       "      <td>-1.002311</td>\n",
       "      <td>0.0</td>\n",
       "      <td>1.0</td>\n",
       "      <td>0.0</td>\n",
       "      <td>0.0</td>\n",
       "      <td>0.49</td>\n",
       "    </tr>\n",
       "    <tr>\n",
       "      <th>1</th>\n",
       "      <td>32.882480</td>\n",
       "      <td>-117.234595</td>\n",
       "      <td>0.021403</td>\n",
       "      <td>-0.002784</td>\n",
       "      <td>-1.001535</td>\n",
       "      <td>0.0</td>\n",
       "      <td>0.0</td>\n",
       "      <td>1.0</td>\n",
       "      <td>0.0</td>\n",
       "      <td>0.50</td>\n",
       "    </tr>\n",
       "    <tr>\n",
       "      <th>2</th>\n",
       "      <td>32.882482</td>\n",
       "      <td>-117.234587</td>\n",
       "      <td>0.021201</td>\n",
       "      <td>-0.004036</td>\n",
       "      <td>-1.000577</td>\n",
       "      <td>0.0</td>\n",
       "      <td>1.0</td>\n",
       "      <td>0.0</td>\n",
       "      <td>0.0</td>\n",
       "      <td>0.56</td>\n",
       "    </tr>\n",
       "    <tr>\n",
       "      <th>3</th>\n",
       "      <td>32.882482</td>\n",
       "      <td>-117.234587</td>\n",
       "      <td>0.021530</td>\n",
       "      <td>-0.004327</td>\n",
       "      <td>-0.998347</td>\n",
       "      <td>1.0</td>\n",
       "      <td>0.0</td>\n",
       "      <td>0.0</td>\n",
       "      <td>0.0</td>\n",
       "      <td>0.56</td>\n",
       "    </tr>\n",
       "    <tr>\n",
       "      <th>4</th>\n",
       "      <td>32.882483</td>\n",
       "      <td>-117.234582</td>\n",
       "      <td>0.021198</td>\n",
       "      <td>-0.004350</td>\n",
       "      <td>-1.004198</td>\n",
       "      <td>0.0</td>\n",
       "      <td>1.0</td>\n",
       "      <td>0.0</td>\n",
       "      <td>0.0</td>\n",
       "      <td>0.57</td>\n",
       "    </tr>\n",
       "    <tr>\n",
       "      <th>...</th>\n",
       "      <td>...</td>\n",
       "      <td>...</td>\n",
       "      <td>...</td>\n",
       "      <td>...</td>\n",
       "      <td>...</td>\n",
       "      <td>...</td>\n",
       "      <td>...</td>\n",
       "      <td>...</td>\n",
       "      <td>...</td>\n",
       "      <td>...</td>\n",
       "    </tr>\n",
       "    <tr>\n",
       "      <th>5198</th>\n",
       "      <td>32.879546</td>\n",
       "      <td>-117.237555</td>\n",
       "      <td>-0.059023</td>\n",
       "      <td>1.008478</td>\n",
       "      <td>-0.027813</td>\n",
       "      <td>0.0</td>\n",
       "      <td>0.0</td>\n",
       "      <td>1.0</td>\n",
       "      <td>0.0</td>\n",
       "      <td>0.65</td>\n",
       "    </tr>\n",
       "    <tr>\n",
       "      <th>5199</th>\n",
       "      <td>32.880290</td>\n",
       "      <td>-117.237482</td>\n",
       "      <td>-0.147803</td>\n",
       "      <td>-0.061424</td>\n",
       "      <td>-0.851655</td>\n",
       "      <td>0.0</td>\n",
       "      <td>0.0</td>\n",
       "      <td>1.0</td>\n",
       "      <td>0.0</td>\n",
       "      <td>0.65</td>\n",
       "    </tr>\n",
       "    <tr>\n",
       "      <th>5200</th>\n",
       "      <td>32.880383</td>\n",
       "      <td>-117.236507</td>\n",
       "      <td>-0.104133</td>\n",
       "      <td>1.043514</td>\n",
       "      <td>-0.040201</td>\n",
       "      <td>0.0</td>\n",
       "      <td>0.0</td>\n",
       "      <td>1.0</td>\n",
       "      <td>0.0</td>\n",
       "      <td>0.64</td>\n",
       "    </tr>\n",
       "    <tr>\n",
       "      <th>5201</th>\n",
       "      <td>32.880894</td>\n",
       "      <td>-117.235780</td>\n",
       "      <td>-0.097580</td>\n",
       "      <td>1.045405</td>\n",
       "      <td>-0.055839</td>\n",
       "      <td>0.0</td>\n",
       "      <td>0.0</td>\n",
       "      <td>1.0</td>\n",
       "      <td>0.0</td>\n",
       "      <td>0.64</td>\n",
       "    </tr>\n",
       "    <tr>\n",
       "      <th>5202</th>\n",
       "      <td>32.881325</td>\n",
       "      <td>-117.234846</td>\n",
       "      <td>-0.100143</td>\n",
       "      <td>1.057408</td>\n",
       "      <td>-0.063492</td>\n",
       "      <td>0.0</td>\n",
       "      <td>0.0</td>\n",
       "      <td>1.0</td>\n",
       "      <td>0.0</td>\n",
       "      <td>0.63</td>\n",
       "    </tr>\n",
       "  </tbody>\n",
       "</table>\n",
       "<p>5203 rows × 10 columns</p>\n",
       "</div>"
      ],
      "text/plain": [
       "      location:raw_latitude  location:raw_longitude  raw_acc:3d:mean_x  \\\n",
       "0                 32.882483             -117.234601           0.022972   \n",
       "1                 32.882480             -117.234595           0.021403   \n",
       "2                 32.882482             -117.234587           0.021201   \n",
       "3                 32.882482             -117.234587           0.021530   \n",
       "4                 32.882483             -117.234582           0.021198   \n",
       "...                     ...                     ...                ...   \n",
       "5198              32.879546             -117.237555          -0.059023   \n",
       "5199              32.880290             -117.237482          -0.147803   \n",
       "5200              32.880383             -117.236507          -0.104133   \n",
       "5201              32.880894             -117.235780          -0.097580   \n",
       "5202              32.881325             -117.234846          -0.100143   \n",
       "\n",
       "      raw_acc:3d:mean_y  raw_acc:3d:mean_z  discrete:app_state:is_active  \\\n",
       "0             -0.002678          -1.002311                           0.0   \n",
       "1             -0.002784          -1.001535                           0.0   \n",
       "2             -0.004036          -1.000577                           0.0   \n",
       "3             -0.004327          -0.998347                           1.0   \n",
       "4             -0.004350          -1.004198                           0.0   \n",
       "...                 ...                ...                           ...   \n",
       "5198           1.008478          -0.027813                           0.0   \n",
       "5199          -0.061424          -0.851655                           0.0   \n",
       "5200           1.043514          -0.040201                           0.0   \n",
       "5201           1.045405          -0.055839                           0.0   \n",
       "5202           1.057408          -0.063492                           0.0   \n",
       "\n",
       "      discrete:app_state:is_inactive  discrete:app_state:is_background  \\\n",
       "0                                1.0                               0.0   \n",
       "1                                0.0                               1.0   \n",
       "2                                1.0                               0.0   \n",
       "3                                0.0                               0.0   \n",
       "4                                1.0                               0.0   \n",
       "...                              ...                               ...   \n",
       "5198                             0.0                               1.0   \n",
       "5199                             0.0                               1.0   \n",
       "5200                             0.0                               1.0   \n",
       "5201                             0.0                               1.0   \n",
       "5202                             0.0                               1.0   \n",
       "\n",
       "      discrete:app_state:missing  lf_measurements:battery_level  \n",
       "0                            0.0                           0.49  \n",
       "1                            0.0                           0.50  \n",
       "2                            0.0                           0.56  \n",
       "3                            0.0                           0.56  \n",
       "4                            0.0                           0.57  \n",
       "...                          ...                            ...  \n",
       "5198                         0.0                           0.65  \n",
       "5199                         0.0                           0.65  \n",
       "5200                         0.0                           0.64  \n",
       "5201                         0.0                           0.64  \n",
       "5202                         0.0                           0.63  \n",
       "\n",
       "[5203 rows x 10 columns]"
      ]
     },
     "execution_count": 233,
     "metadata": {},
     "output_type": "execute_result"
    }
   ],
   "source": [
    "# example entry: participant at index 0\n",
    "sen[ind['uuid'][0]]"
   ]
  },
  {
   "cell_type": "code",
   "execution_count": 234,
   "metadata": {
    "scrolled": true
   },
   "outputs": [
    {
     "data": {
      "text/plain": [
       "True"
      ]
     },
     "execution_count": 234,
     "metadata": {},
     "output_type": "execute_result"
    }
   ],
   "source": [
    "sen[ind['uuid'][0]]['location:raw_latitude'].isna().any()"
   ]
  },
  {
   "cell_type": "code",
   "execution_count": 235,
   "metadata": {},
   "outputs": [
    {
     "data": {
      "text/html": [
       "<div>\n",
       "<style scoped>\n",
       "    .dataframe tbody tr th:only-of-type {\n",
       "        vertical-align: middle;\n",
       "    }\n",
       "\n",
       "    .dataframe tbody tr th {\n",
       "        vertical-align: top;\n",
       "    }\n",
       "\n",
       "    .dataframe thead th {\n",
       "        text-align: right;\n",
       "    }\n",
       "</style>\n",
       "<table border=\"1\" class=\"dataframe\">\n",
       "  <thead>\n",
       "    <tr style=\"text-align: right;\">\n",
       "      <th></th>\n",
       "      <th>location:raw_latitude</th>\n",
       "      <th>location:raw_longitude</th>\n",
       "      <th>raw_acc:3d:mean_x</th>\n",
       "      <th>raw_acc:3d:mean_y</th>\n",
       "      <th>raw_acc:3d:mean_z</th>\n",
       "      <th>discrete:app_state:is_active</th>\n",
       "      <th>discrete:app_state:is_inactive</th>\n",
       "      <th>discrete:app_state:is_background</th>\n",
       "      <th>discrete:app_state:missing</th>\n",
       "      <th>lf_measurements:battery_level</th>\n",
       "    </tr>\n",
       "  </thead>\n",
       "  <tbody>\n",
       "    <tr>\n",
       "      <th>376</th>\n",
       "      <td>NaN</td>\n",
       "      <td>NaN</td>\n",
       "      <td>-0.042663</td>\n",
       "      <td>-0.381815</td>\n",
       "      <td>-0.889453</td>\n",
       "      <td>0.0</td>\n",
       "      <td>1.0</td>\n",
       "      <td>0.0</td>\n",
       "      <td>0.0</td>\n",
       "      <td>0.13</td>\n",
       "    </tr>\n",
       "    <tr>\n",
       "      <th>377</th>\n",
       "      <td>NaN</td>\n",
       "      <td>NaN</td>\n",
       "      <td>-0.021713</td>\n",
       "      <td>-0.005770</td>\n",
       "      <td>1.002091</td>\n",
       "      <td>0.0</td>\n",
       "      <td>0.0</td>\n",
       "      <td>1.0</td>\n",
       "      <td>0.0</td>\n",
       "      <td>0.12</td>\n",
       "    </tr>\n",
       "    <tr>\n",
       "      <th>378</th>\n",
       "      <td>NaN</td>\n",
       "      <td>NaN</td>\n",
       "      <td>-0.022438</td>\n",
       "      <td>-0.006215</td>\n",
       "      <td>1.002913</td>\n",
       "      <td>0.0</td>\n",
       "      <td>0.0</td>\n",
       "      <td>1.0</td>\n",
       "      <td>0.0</td>\n",
       "      <td>0.12</td>\n",
       "    </tr>\n",
       "    <tr>\n",
       "      <th>379</th>\n",
       "      <td>NaN</td>\n",
       "      <td>NaN</td>\n",
       "      <td>-0.022573</td>\n",
       "      <td>-0.006324</td>\n",
       "      <td>1.001260</td>\n",
       "      <td>0.0</td>\n",
       "      <td>0.0</td>\n",
       "      <td>1.0</td>\n",
       "      <td>0.0</td>\n",
       "      <td>0.12</td>\n",
       "    </tr>\n",
       "    <tr>\n",
       "      <th>380</th>\n",
       "      <td>NaN</td>\n",
       "      <td>NaN</td>\n",
       "      <td>-0.022931</td>\n",
       "      <td>-0.006822</td>\n",
       "      <td>1.003204</td>\n",
       "      <td>0.0</td>\n",
       "      <td>0.0</td>\n",
       "      <td>1.0</td>\n",
       "      <td>0.0</td>\n",
       "      <td>0.12</td>\n",
       "    </tr>\n",
       "    <tr>\n",
       "      <th>...</th>\n",
       "      <td>...</td>\n",
       "      <td>...</td>\n",
       "      <td>...</td>\n",
       "      <td>...</td>\n",
       "      <td>...</td>\n",
       "      <td>...</td>\n",
       "      <td>...</td>\n",
       "      <td>...</td>\n",
       "      <td>...</td>\n",
       "      <td>...</td>\n",
       "    </tr>\n",
       "    <tr>\n",
       "      <th>1601</th>\n",
       "      <td>NaN</td>\n",
       "      <td>NaN</td>\n",
       "      <td>0.691975</td>\n",
       "      <td>-0.673450</td>\n",
       "      <td>0.236869</td>\n",
       "      <td>0.0</td>\n",
       "      <td>0.0</td>\n",
       "      <td>1.0</td>\n",
       "      <td>0.0</td>\n",
       "      <td>0.81</td>\n",
       "    </tr>\n",
       "    <tr>\n",
       "      <th>1602</th>\n",
       "      <td>NaN</td>\n",
       "      <td>NaN</td>\n",
       "      <td>-0.123870</td>\n",
       "      <td>-0.150572</td>\n",
       "      <td>-0.692753</td>\n",
       "      <td>0.0</td>\n",
       "      <td>0.0</td>\n",
       "      <td>1.0</td>\n",
       "      <td>0.0</td>\n",
       "      <td>0.80</td>\n",
       "    </tr>\n",
       "    <tr>\n",
       "      <th>1603</th>\n",
       "      <td>NaN</td>\n",
       "      <td>NaN</td>\n",
       "      <td>-0.482297</td>\n",
       "      <td>0.855854</td>\n",
       "      <td>-0.016513</td>\n",
       "      <td>0.0</td>\n",
       "      <td>0.0</td>\n",
       "      <td>1.0</td>\n",
       "      <td>0.0</td>\n",
       "      <td>0.80</td>\n",
       "    </tr>\n",
       "    <tr>\n",
       "      <th>1604</th>\n",
       "      <td>NaN</td>\n",
       "      <td>NaN</td>\n",
       "      <td>-0.078740</td>\n",
       "      <td>0.132637</td>\n",
       "      <td>0.054461</td>\n",
       "      <td>0.0</td>\n",
       "      <td>0.0</td>\n",
       "      <td>1.0</td>\n",
       "      <td>0.0</td>\n",
       "      <td>0.79</td>\n",
       "    </tr>\n",
       "    <tr>\n",
       "      <th>1605</th>\n",
       "      <td>NaN</td>\n",
       "      <td>NaN</td>\n",
       "      <td>-0.075990</td>\n",
       "      <td>-0.589470</td>\n",
       "      <td>-0.757489</td>\n",
       "      <td>0.0</td>\n",
       "      <td>0.0</td>\n",
       "      <td>1.0</td>\n",
       "      <td>0.0</td>\n",
       "      <td>0.79</td>\n",
       "    </tr>\n",
       "  </tbody>\n",
       "</table>\n",
       "<p>296 rows × 10 columns</p>\n",
       "</div>"
      ],
      "text/plain": [
       "      location:raw_latitude  location:raw_longitude  raw_acc:3d:mean_x  \\\n",
       "376                     NaN                     NaN          -0.042663   \n",
       "377                     NaN                     NaN          -0.021713   \n",
       "378                     NaN                     NaN          -0.022438   \n",
       "379                     NaN                     NaN          -0.022573   \n",
       "380                     NaN                     NaN          -0.022931   \n",
       "...                     ...                     ...                ...   \n",
       "1601                    NaN                     NaN           0.691975   \n",
       "1602                    NaN                     NaN          -0.123870   \n",
       "1603                    NaN                     NaN          -0.482297   \n",
       "1604                    NaN                     NaN          -0.078740   \n",
       "1605                    NaN                     NaN          -0.075990   \n",
       "\n",
       "      raw_acc:3d:mean_y  raw_acc:3d:mean_z  discrete:app_state:is_active  \\\n",
       "376           -0.381815          -0.889453                           0.0   \n",
       "377           -0.005770           1.002091                           0.0   \n",
       "378           -0.006215           1.002913                           0.0   \n",
       "379           -0.006324           1.001260                           0.0   \n",
       "380           -0.006822           1.003204                           0.0   \n",
       "...                 ...                ...                           ...   \n",
       "1601          -0.673450           0.236869                           0.0   \n",
       "1602          -0.150572          -0.692753                           0.0   \n",
       "1603           0.855854          -0.016513                           0.0   \n",
       "1604           0.132637           0.054461                           0.0   \n",
       "1605          -0.589470          -0.757489                           0.0   \n",
       "\n",
       "      discrete:app_state:is_inactive  discrete:app_state:is_background  \\\n",
       "376                              1.0                               0.0   \n",
       "377                              0.0                               1.0   \n",
       "378                              0.0                               1.0   \n",
       "379                              0.0                               1.0   \n",
       "380                              0.0                               1.0   \n",
       "...                              ...                               ...   \n",
       "1601                             0.0                               1.0   \n",
       "1602                             0.0                               1.0   \n",
       "1603                             0.0                               1.0   \n",
       "1604                             0.0                               1.0   \n",
       "1605                             0.0                               1.0   \n",
       "\n",
       "      discrete:app_state:missing  lf_measurements:battery_level  \n",
       "376                          0.0                           0.13  \n",
       "377                          0.0                           0.12  \n",
       "378                          0.0                           0.12  \n",
       "379                          0.0                           0.12  \n",
       "380                          0.0                           0.12  \n",
       "...                          ...                            ...  \n",
       "1601                         0.0                           0.81  \n",
       "1602                         0.0                           0.80  \n",
       "1603                         0.0                           0.80  \n",
       "1604                         0.0                           0.79  \n",
       "1605                         0.0                           0.79  \n",
       "\n",
       "[296 rows x 10 columns]"
      ]
     },
     "execution_count": 235,
     "metadata": {},
     "output_type": "execute_result"
    }
   ],
   "source": [
    "sen[ind['uuid'][0]].loc[sen[ind['uuid'][0]]['location:raw_latitude'].isna()]"
   ]
  },
  {
   "cell_type": "code",
   "execution_count": 236,
   "metadata": {},
   "outputs": [
    {
     "data": {
      "text/plain": [
       "count    5203.000000\n",
       "mean        0.635049\n",
       "std         0.298979\n",
       "min         0.000000\n",
       "25%         0.390000\n",
       "50%         0.640000\n",
       "75%         0.970000\n",
       "max         1.000000\n",
       "Name: lf_measurements:battery_level, dtype: float64"
      ]
     },
     "execution_count": 236,
     "metadata": {},
     "output_type": "execute_result"
    }
   ],
   "source": [
    "# check how battery level is recorded: 0-1\n",
    "sen[ind['uuid'][0]]['lf_measurements:battery_level'].describe()"
   ]
  },
  {
   "cell_type": "code",
   "execution_count": 245,
   "metadata": {
    "scrolled": true
   },
   "outputs": [
    {
     "data": {
      "text/html": [
       "<div>\n",
       "<style scoped>\n",
       "    .dataframe tbody tr th:only-of-type {\n",
       "        vertical-align: middle;\n",
       "    }\n",
       "\n",
       "    .dataframe tbody tr th {\n",
       "        vertical-align: top;\n",
       "    }\n",
       "\n",
       "    .dataframe thead th {\n",
       "        text-align: right;\n",
       "    }\n",
       "</style>\n",
       "<table border=\"1\" class=\"dataframe\">\n",
       "  <thead>\n",
       "    <tr style=\"text-align: right;\">\n",
       "      <th></th>\n",
       "      <th>location:raw_latitude</th>\n",
       "      <th>location:raw_longitude</th>\n",
       "      <th>raw_acc:3d:mean_x</th>\n",
       "      <th>raw_acc:3d:mean_y</th>\n",
       "      <th>raw_acc:3d:mean_z</th>\n",
       "      <th>discrete:app_state:is_active</th>\n",
       "      <th>discrete:app_state:is_inactive</th>\n",
       "      <th>discrete:app_state:is_background</th>\n",
       "      <th>discrete:app_state:missing</th>\n",
       "      <th>lf_measurements:battery_level</th>\n",
       "    </tr>\n",
       "  </thead>\n",
       "  <tbody>\n",
       "    <tr>\n",
       "      <th>376</th>\n",
       "      <td>NaN</td>\n",
       "      <td>NaN</td>\n",
       "      <td>-0.042663</td>\n",
       "      <td>-0.381815</td>\n",
       "      <td>-0.889453</td>\n",
       "      <td>0.0</td>\n",
       "      <td>1.0</td>\n",
       "      <td>0.0</td>\n",
       "      <td>0.0</td>\n",
       "      <td>0.13</td>\n",
       "    </tr>\n",
       "    <tr>\n",
       "      <th>377</th>\n",
       "      <td>NaN</td>\n",
       "      <td>NaN</td>\n",
       "      <td>-0.021713</td>\n",
       "      <td>-0.005770</td>\n",
       "      <td>1.002091</td>\n",
       "      <td>0.0</td>\n",
       "      <td>0.0</td>\n",
       "      <td>1.0</td>\n",
       "      <td>0.0</td>\n",
       "      <td>0.12</td>\n",
       "    </tr>\n",
       "    <tr>\n",
       "      <th>378</th>\n",
       "      <td>NaN</td>\n",
       "      <td>NaN</td>\n",
       "      <td>-0.022438</td>\n",
       "      <td>-0.006215</td>\n",
       "      <td>1.002913</td>\n",
       "      <td>0.0</td>\n",
       "      <td>0.0</td>\n",
       "      <td>1.0</td>\n",
       "      <td>0.0</td>\n",
       "      <td>0.12</td>\n",
       "    </tr>\n",
       "    <tr>\n",
       "      <th>379</th>\n",
       "      <td>NaN</td>\n",
       "      <td>NaN</td>\n",
       "      <td>-0.022573</td>\n",
       "      <td>-0.006324</td>\n",
       "      <td>1.001260</td>\n",
       "      <td>0.0</td>\n",
       "      <td>0.0</td>\n",
       "      <td>1.0</td>\n",
       "      <td>0.0</td>\n",
       "      <td>0.12</td>\n",
       "    </tr>\n",
       "    <tr>\n",
       "      <th>380</th>\n",
       "      <td>NaN</td>\n",
       "      <td>NaN</td>\n",
       "      <td>-0.022931</td>\n",
       "      <td>-0.006822</td>\n",
       "      <td>1.003204</td>\n",
       "      <td>0.0</td>\n",
       "      <td>0.0</td>\n",
       "      <td>1.0</td>\n",
       "      <td>0.0</td>\n",
       "      <td>0.12</td>\n",
       "    </tr>\n",
       "    <tr>\n",
       "      <th>381</th>\n",
       "      <td>NaN</td>\n",
       "      <td>NaN</td>\n",
       "      <td>-0.022881</td>\n",
       "      <td>-0.006357</td>\n",
       "      <td>1.003041</td>\n",
       "      <td>0.0</td>\n",
       "      <td>0.0</td>\n",
       "      <td>1.0</td>\n",
       "      <td>0.0</td>\n",
       "      <td>0.12</td>\n",
       "    </tr>\n",
       "    <tr>\n",
       "      <th>382</th>\n",
       "      <td>NaN</td>\n",
       "      <td>NaN</td>\n",
       "      <td>-0.022957</td>\n",
       "      <td>-0.006546</td>\n",
       "      <td>1.002180</td>\n",
       "      <td>0.0</td>\n",
       "      <td>0.0</td>\n",
       "      <td>1.0</td>\n",
       "      <td>0.0</td>\n",
       "      <td>0.11</td>\n",
       "    </tr>\n",
       "    <tr>\n",
       "      <th>383</th>\n",
       "      <td>NaN</td>\n",
       "      <td>NaN</td>\n",
       "      <td>0.196818</td>\n",
       "      <td>-0.360884</td>\n",
       "      <td>-0.567186</td>\n",
       "      <td>0.0</td>\n",
       "      <td>0.0</td>\n",
       "      <td>1.0</td>\n",
       "      <td>0.0</td>\n",
       "      <td>0.11</td>\n",
       "    </tr>\n",
       "    <tr>\n",
       "      <th>384</th>\n",
       "      <td>NaN</td>\n",
       "      <td>NaN</td>\n",
       "      <td>0.792566</td>\n",
       "      <td>-0.601231</td>\n",
       "      <td>-0.091787</td>\n",
       "      <td>0.0</td>\n",
       "      <td>0.0</td>\n",
       "      <td>1.0</td>\n",
       "      <td>0.0</td>\n",
       "      <td>0.11</td>\n",
       "    </tr>\n",
       "    <tr>\n",
       "      <th>385</th>\n",
       "      <td>NaN</td>\n",
       "      <td>NaN</td>\n",
       "      <td>0.741030</td>\n",
       "      <td>-0.619769</td>\n",
       "      <td>-0.213422</td>\n",
       "      <td>0.0</td>\n",
       "      <td>0.0</td>\n",
       "      <td>1.0</td>\n",
       "      <td>0.0</td>\n",
       "      <td>0.11</td>\n",
       "    </tr>\n",
       "  </tbody>\n",
       "</table>\n",
       "</div>"
      ],
      "text/plain": [
       "     location:raw_latitude  location:raw_longitude  raw_acc:3d:mean_x  \\\n",
       "376                    NaN                     NaN          -0.042663   \n",
       "377                    NaN                     NaN          -0.021713   \n",
       "378                    NaN                     NaN          -0.022438   \n",
       "379                    NaN                     NaN          -0.022573   \n",
       "380                    NaN                     NaN          -0.022931   \n",
       "381                    NaN                     NaN          -0.022881   \n",
       "382                    NaN                     NaN          -0.022957   \n",
       "383                    NaN                     NaN           0.196818   \n",
       "384                    NaN                     NaN           0.792566   \n",
       "385                    NaN                     NaN           0.741030   \n",
       "\n",
       "     raw_acc:3d:mean_y  raw_acc:3d:mean_z  discrete:app_state:is_active  \\\n",
       "376          -0.381815          -0.889453                           0.0   \n",
       "377          -0.005770           1.002091                           0.0   \n",
       "378          -0.006215           1.002913                           0.0   \n",
       "379          -0.006324           1.001260                           0.0   \n",
       "380          -0.006822           1.003204                           0.0   \n",
       "381          -0.006357           1.003041                           0.0   \n",
       "382          -0.006546           1.002180                           0.0   \n",
       "383          -0.360884          -0.567186                           0.0   \n",
       "384          -0.601231          -0.091787                           0.0   \n",
       "385          -0.619769          -0.213422                           0.0   \n",
       "\n",
       "     discrete:app_state:is_inactive  discrete:app_state:is_background  \\\n",
       "376                             1.0                               0.0   \n",
       "377                             0.0                               1.0   \n",
       "378                             0.0                               1.0   \n",
       "379                             0.0                               1.0   \n",
       "380                             0.0                               1.0   \n",
       "381                             0.0                               1.0   \n",
       "382                             0.0                               1.0   \n",
       "383                             0.0                               1.0   \n",
       "384                             0.0                               1.0   \n",
       "385                             0.0                               1.0   \n",
       "\n",
       "     discrete:app_state:missing  lf_measurements:battery_level  \n",
       "376                         0.0                           0.13  \n",
       "377                         0.0                           0.12  \n",
       "378                         0.0                           0.12  \n",
       "379                         0.0                           0.12  \n",
       "380                         0.0                           0.12  \n",
       "381                         0.0                           0.12  \n",
       "382                         0.0                           0.11  \n",
       "383                         0.0                           0.11  \n",
       "384                         0.0                           0.11  \n",
       "385                         0.0                           0.11  "
      ]
     },
     "execution_count": 245,
     "metadata": {},
     "output_type": "execute_result"
    }
   ],
   "source": [
    "sen[ind['uuid'][0]].loc[(sen[ind['uuid'][0]]['location:raw_latitude'].isna()) & (sen[ind['uuid'][0]]['lf_measurements:battery_level'] < 0.15)]"
   ]
  },
  {
   "cell_type": "code",
   "execution_count": 250,
   "metadata": {
    "scrolled": true
   },
   "outputs": [
    {
     "data": {
      "text/plain": [
       "10"
      ]
     },
     "execution_count": 250,
     "metadata": {},
     "output_type": "execute_result"
    }
   ],
   "source": [
    "len(sen[ind['uuid'][0]].loc[(sen[ind['uuid'][0]]['location:raw_latitude'].isna()) & (sen[ind['uuid'][0]]['lf_measurements:battery_level']< 0.15)])"
   ]
  },
  {
   "cell_type": "code",
   "execution_count": 257,
   "metadata": {},
   "outputs": [],
   "source": [
    "# identify all people who turn off location services to save battery when the battery level is low\n",
    "keys = []\n",
    "for person in sen.keys(): # for each of the 60 people\n",
    "    low = len(sen[person].loc[sen[person]['lf_measurements:battery_level'] < 0.15])\n",
    "    low_off = len(sen[person].loc[(sen[person]['location:raw_latitude'].isna()) & (sen[person]['lf_measurements:battery_level']< 0.15)])\n",
    "    if low==low_off & low > 0: # record them if they show this behavior CONSISTENTLY\n",
    "        keys += [person]"
   ]
  },
  {
   "cell_type": "code",
   "execution_count": 258,
   "metadata": {},
   "outputs": [
    {
     "data": {
      "text/plain": [
       "6"
      ]
     },
     "execution_count": 258,
     "metadata": {},
     "output_type": "execute_result"
    }
   ],
   "source": [
    "len(keys)"
   ]
  },
  {
   "cell_type": "code",
   "execution_count": 259,
   "metadata": {
    "scrolled": true
   },
   "outputs": [
    {
     "name": "stdout",
     "output_type": "stream",
     "text": [
      "['098A72A5-E3E5-4F54-A152-BBDA0DF7B694', 'CDA3BBF7-6631-45E8-85BA-EEB416B32A3C', '96A358A0-FFF2-4239-B93E-C7425B901B47', '481F4DD2-7689-43B9-A2AA-C8772227162B', 'B09E373F-8A54-44C8-895B-0039390B859F', 'B7F9D634-263E-4A97-87F9-6FFB4DDCB36C']\n"
     ]
    }
   ],
   "source": [
    "print(keys)"
   ]
  },
  {
   "cell_type": "code",
   "execution_count": 261,
   "metadata": {},
   "outputs": [],
   "source": [
    "# For each of these individuals, how many minutes of location data have we lost due to turning off location?\n",
    "# The number of records corresponds to the number of minutes that the participant underwent the study\n",
    "loss = {key: len(sen[key].loc[(sen[key]['location:raw_latitude'].isna()) & (sen[key]['lf_measurements:battery_level']< 0.15)]) for key in keys}"
   ]
  },
  {
   "cell_type": "code",
   "execution_count": 262,
   "metadata": {},
   "outputs": [
    {
     "data": {
      "text/plain": [
       "{'098A72A5-E3E5-4F54-A152-BBDA0DF7B694': 277,\n",
       " 'CDA3BBF7-6631-45E8-85BA-EEB416B32A3C': 7,\n",
       " '96A358A0-FFF2-4239-B93E-C7425B901B47': 104,\n",
       " '481F4DD2-7689-43B9-A2AA-C8772227162B': 108,\n",
       " 'B09E373F-8A54-44C8-895B-0039390B859F': 182,\n",
       " 'B7F9D634-263E-4A97-87F9-6FFB4DDCB36C': 4}"
      ]
     },
     "execution_count": 262,
     "metadata": {},
     "output_type": "execute_result"
    }
   ],
   "source": [
    "loss"
   ]
  },
  {
   "cell_type": "markdown",
   "metadata": {},
   "source": [
    "**explanation of implementation:** Explain how you find these people in the Notebook. For each of these individuals, how many minutes of location data have we lost due to turning-off of location service?  "
   ]
  },
  {
   "cell_type": "markdown",
   "metadata": {},
   "source": [
    "*ANSWER:* I used a dictionary comprehension to filter the dictionary by my conditions and keep the entries that matched. I found 6 individuals who matched the conditions of always having no location data when their phone battery was below 15%. We lost 277 minutes of location data from the first participant out of the 6, 7 for the second, 104 for the third, 108 for the fourth, 182 for the fifth, and 4 for the sixth."
   ]
  },
  {
   "cell_type": "code",
   "execution_count": 263,
   "metadata": {},
   "outputs": [
    {
     "data": {
      "text/html": [
       "<div>\n",
       "<style scoped>\n",
       "    .dataframe tbody tr th:only-of-type {\n",
       "        vertical-align: middle;\n",
       "    }\n",
       "\n",
       "    .dataframe tbody tr th {\n",
       "        vertical-align: top;\n",
       "    }\n",
       "\n",
       "    .dataframe thead th {\n",
       "        text-align: right;\n",
       "    }\n",
       "</style>\n",
       "<table border=\"1\" class=\"dataframe\">\n",
       "  <thead>\n",
       "    <tr style=\"text-align: right;\">\n",
       "      <th></th>\n",
       "      <th>location:raw_latitude</th>\n",
       "      <th>location:raw_longitude</th>\n",
       "      <th>raw_acc:3d:mean_x</th>\n",
       "      <th>raw_acc:3d:mean_y</th>\n",
       "      <th>raw_acc:3d:mean_z</th>\n",
       "      <th>discrete:app_state:is_active</th>\n",
       "      <th>discrete:app_state:is_inactive</th>\n",
       "      <th>discrete:app_state:is_background</th>\n",
       "      <th>discrete:app_state:missing</th>\n",
       "      <th>lf_measurements:battery_level</th>\n",
       "    </tr>\n",
       "  </thead>\n",
       "  <tbody>\n",
       "    <tr>\n",
       "      <th>0</th>\n",
       "      <td>32.882301</td>\n",
       "      <td>-117.234683</td>\n",
       "      <td>-0.018860</td>\n",
       "      <td>0.037530</td>\n",
       "      <td>1.038409</td>\n",
       "      <td>0.0</td>\n",
       "      <td>0.0</td>\n",
       "      <td>0.0</td>\n",
       "      <td>1.0</td>\n",
       "      <td>0.80</td>\n",
       "    </tr>\n",
       "    <tr>\n",
       "      <th>1</th>\n",
       "      <td>32.882297</td>\n",
       "      <td>-117.234704</td>\n",
       "      <td>0.049835</td>\n",
       "      <td>0.092630</td>\n",
       "      <td>0.983184</td>\n",
       "      <td>0.0</td>\n",
       "      <td>0.0</td>\n",
       "      <td>0.0</td>\n",
       "      <td>1.0</td>\n",
       "      <td>0.78</td>\n",
       "    </tr>\n",
       "    <tr>\n",
       "      <th>2</th>\n",
       "      <td>32.882288</td>\n",
       "      <td>-117.234700</td>\n",
       "      <td>0.015455</td>\n",
       "      <td>0.012330</td>\n",
       "      <td>1.043454</td>\n",
       "      <td>0.0</td>\n",
       "      <td>0.0</td>\n",
       "      <td>0.0</td>\n",
       "      <td>1.0</td>\n",
       "      <td>0.78</td>\n",
       "    </tr>\n",
       "    <tr>\n",
       "      <th>3</th>\n",
       "      <td>32.882315</td>\n",
       "      <td>-117.234685</td>\n",
       "      <td>0.014795</td>\n",
       "      <td>0.010820</td>\n",
       "      <td>1.048484</td>\n",
       "      <td>0.0</td>\n",
       "      <td>0.0</td>\n",
       "      <td>0.0</td>\n",
       "      <td>1.0</td>\n",
       "      <td>0.77</td>\n",
       "    </tr>\n",
       "    <tr>\n",
       "      <th>4</th>\n",
       "      <td>32.882304</td>\n",
       "      <td>-117.234690</td>\n",
       "      <td>0.014965</td>\n",
       "      <td>0.011975</td>\n",
       "      <td>1.044709</td>\n",
       "      <td>0.0</td>\n",
       "      <td>0.0</td>\n",
       "      <td>0.0</td>\n",
       "      <td>1.0</td>\n",
       "      <td>0.77</td>\n",
       "    </tr>\n",
       "    <tr>\n",
       "      <th>...</th>\n",
       "      <td>...</td>\n",
       "      <td>...</td>\n",
       "      <td>...</td>\n",
       "      <td>...</td>\n",
       "      <td>...</td>\n",
       "      <td>...</td>\n",
       "      <td>...</td>\n",
       "      <td>...</td>\n",
       "      <td>...</td>\n",
       "      <td>...</td>\n",
       "    </tr>\n",
       "    <tr>\n",
       "      <th>2261</th>\n",
       "      <td>32.871460</td>\n",
       "      <td>-117.246647</td>\n",
       "      <td>0.797243</td>\n",
       "      <td>0.703823</td>\n",
       "      <td>-0.016015</td>\n",
       "      <td>0.0</td>\n",
       "      <td>0.0</td>\n",
       "      <td>0.0</td>\n",
       "      <td>1.0</td>\n",
       "      <td>0.94</td>\n",
       "    </tr>\n",
       "    <tr>\n",
       "      <th>2262</th>\n",
       "      <td>32.872778</td>\n",
       "      <td>-117.245349</td>\n",
       "      <td>0.823473</td>\n",
       "      <td>0.671712</td>\n",
       "      <td>-0.071075</td>\n",
       "      <td>0.0</td>\n",
       "      <td>0.0</td>\n",
       "      <td>0.0</td>\n",
       "      <td>1.0</td>\n",
       "      <td>0.94</td>\n",
       "    </tr>\n",
       "    <tr>\n",
       "      <th>2263</th>\n",
       "      <td>32.875152</td>\n",
       "      <td>-117.244326</td>\n",
       "      <td>0.800798</td>\n",
       "      <td>0.690428</td>\n",
       "      <td>-0.150936</td>\n",
       "      <td>0.0</td>\n",
       "      <td>0.0</td>\n",
       "      <td>0.0</td>\n",
       "      <td>1.0</td>\n",
       "      <td>0.94</td>\n",
       "    </tr>\n",
       "    <tr>\n",
       "      <th>2264</th>\n",
       "      <td>32.875487</td>\n",
       "      <td>-117.243996</td>\n",
       "      <td>0.553757</td>\n",
       "      <td>0.899438</td>\n",
       "      <td>-0.017660</td>\n",
       "      <td>0.0</td>\n",
       "      <td>0.0</td>\n",
       "      <td>0.0</td>\n",
       "      <td>1.0</td>\n",
       "      <td>0.94</td>\n",
       "    </tr>\n",
       "    <tr>\n",
       "      <th>2265</th>\n",
       "      <td>32.875740</td>\n",
       "      <td>-117.243133</td>\n",
       "      <td>0.768098</td>\n",
       "      <td>0.713598</td>\n",
       "      <td>-0.157951</td>\n",
       "      <td>0.0</td>\n",
       "      <td>0.0</td>\n",
       "      <td>0.0</td>\n",
       "      <td>1.0</td>\n",
       "      <td>0.93</td>\n",
       "    </tr>\n",
       "  </tbody>\n",
       "</table>\n",
       "<p>2266 rows × 10 columns</p>\n",
       "</div>"
      ],
      "text/plain": [
       "      location:raw_latitude  location:raw_longitude  raw_acc:3d:mean_x  \\\n",
       "0                 32.882301             -117.234683          -0.018860   \n",
       "1                 32.882297             -117.234704           0.049835   \n",
       "2                 32.882288             -117.234700           0.015455   \n",
       "3                 32.882315             -117.234685           0.014795   \n",
       "4                 32.882304             -117.234690           0.014965   \n",
       "...                     ...                     ...                ...   \n",
       "2261              32.871460             -117.246647           0.797243   \n",
       "2262              32.872778             -117.245349           0.823473   \n",
       "2263              32.875152             -117.244326           0.800798   \n",
       "2264              32.875487             -117.243996           0.553757   \n",
       "2265              32.875740             -117.243133           0.768098   \n",
       "\n",
       "      raw_acc:3d:mean_y  raw_acc:3d:mean_z  discrete:app_state:is_active  \\\n",
       "0              0.037530           1.038409                           0.0   \n",
       "1              0.092630           0.983184                           0.0   \n",
       "2              0.012330           1.043454                           0.0   \n",
       "3              0.010820           1.048484                           0.0   \n",
       "4              0.011975           1.044709                           0.0   \n",
       "...                 ...                ...                           ...   \n",
       "2261           0.703823          -0.016015                           0.0   \n",
       "2262           0.671712          -0.071075                           0.0   \n",
       "2263           0.690428          -0.150936                           0.0   \n",
       "2264           0.899438          -0.017660                           0.0   \n",
       "2265           0.713598          -0.157951                           0.0   \n",
       "\n",
       "      discrete:app_state:is_inactive  discrete:app_state:is_background  \\\n",
       "0                                0.0                               0.0   \n",
       "1                                0.0                               0.0   \n",
       "2                                0.0                               0.0   \n",
       "3                                0.0                               0.0   \n",
       "4                                0.0                               0.0   \n",
       "...                              ...                               ...   \n",
       "2261                             0.0                               0.0   \n",
       "2262                             0.0                               0.0   \n",
       "2263                             0.0                               0.0   \n",
       "2264                             0.0                               0.0   \n",
       "2265                             0.0                               0.0   \n",
       "\n",
       "      discrete:app_state:missing  lf_measurements:battery_level  \n",
       "0                            1.0                           0.80  \n",
       "1                            1.0                           0.78  \n",
       "2                            1.0                           0.78  \n",
       "3                            1.0                           0.77  \n",
       "4                            1.0                           0.77  \n",
       "...                          ...                            ...  \n",
       "2261                         1.0                           0.94  \n",
       "2262                         1.0                           0.94  \n",
       "2263                         1.0                           0.94  \n",
       "2264                         1.0                           0.94  \n",
       "2265                         1.0                           0.93  \n",
       "\n",
       "[2266 rows x 10 columns]"
      ]
     },
     "execution_count": 263,
     "metadata": {},
     "output_type": "execute_result"
    }
   ],
   "source": [
    "## Case 3 Problem B code and graph\n",
    "subject = 'F50235E0-DD67-4F2A-B00B-1F31ADA998B9'\n",
    "sen[subject]"
   ]
  },
  {
   "cell_type": "code",
   "execution_count": 264,
   "metadata": {},
   "outputs": [
    {
     "data": {
      "text/plain": [
       "Index(['location:raw_latitude', 'location:raw_longitude', 'raw_acc:3d:mean_x',\n",
       "       'raw_acc:3d:mean_y', 'raw_acc:3d:mean_z',\n",
       "       'discrete:app_state:is_active', 'discrete:app_state:is_inactive',\n",
       "       'discrete:app_state:is_background', 'discrete:app_state:missing',\n",
       "       'lf_measurements:battery_level'],\n",
       "      dtype='object')"
      ]
     },
     "execution_count": 264,
     "metadata": {},
     "output_type": "execute_result"
    }
   ],
   "source": [
    "sen[subject].columns"
   ]
  },
  {
   "cell_type": "code",
   "execution_count": 267,
   "metadata": {},
   "outputs": [
    {
     "data": {
      "text/html": [
       "<div>\n",
       "<style scoped>\n",
       "    .dataframe tbody tr th:only-of-type {\n",
       "        vertical-align: middle;\n",
       "    }\n",
       "\n",
       "    .dataframe tbody tr th {\n",
       "        vertical-align: top;\n",
       "    }\n",
       "\n",
       "    .dataframe thead th {\n",
       "        text-align: right;\n",
       "    }\n",
       "</style>\n",
       "<table border=\"1\" class=\"dataframe\">\n",
       "  <thead>\n",
       "    <tr style=\"text-align: right;\">\n",
       "      <th></th>\n",
       "      <th>location:raw_latitude</th>\n",
       "      <th>location:raw_longitude</th>\n",
       "      <th>raw_acc:3d:mean_x</th>\n",
       "      <th>raw_acc:3d:mean_y</th>\n",
       "      <th>raw_acc:3d:mean_z</th>\n",
       "      <th>discrete:app_state:is_active</th>\n",
       "      <th>discrete:app_state:is_inactive</th>\n",
       "      <th>discrete:app_state:is_background</th>\n",
       "      <th>discrete:app_state:missing</th>\n",
       "      <th>lf_measurements:battery_level</th>\n",
       "    </tr>\n",
       "  </thead>\n",
       "  <tbody>\n",
       "    <tr>\n",
       "      <th>33</th>\n",
       "      <td>NaN</td>\n",
       "      <td>NaN</td>\n",
       "      <td>0.153591</td>\n",
       "      <td>0.317961</td>\n",
       "      <td>0.754153</td>\n",
       "      <td>0.0</td>\n",
       "      <td>0.0</td>\n",
       "      <td>0.0</td>\n",
       "      <td>1.0</td>\n",
       "      <td>0.69</td>\n",
       "    </tr>\n",
       "    <tr>\n",
       "      <th>36</th>\n",
       "      <td>NaN</td>\n",
       "      <td>NaN</td>\n",
       "      <td>0.767498</td>\n",
       "      <td>-0.712873</td>\n",
       "      <td>0.260261</td>\n",
       "      <td>0.0</td>\n",
       "      <td>0.0</td>\n",
       "      <td>0.0</td>\n",
       "      <td>1.0</td>\n",
       "      <td>0.67</td>\n",
       "    </tr>\n",
       "    <tr>\n",
       "      <th>37</th>\n",
       "      <td>NaN</td>\n",
       "      <td>NaN</td>\n",
       "      <td>0.770958</td>\n",
       "      <td>-0.694803</td>\n",
       "      <td>0.289361</td>\n",
       "      <td>0.0</td>\n",
       "      <td>0.0</td>\n",
       "      <td>0.0</td>\n",
       "      <td>1.0</td>\n",
       "      <td>0.67</td>\n",
       "    </tr>\n",
       "    <tr>\n",
       "      <th>38</th>\n",
       "      <td>NaN</td>\n",
       "      <td>NaN</td>\n",
       "      <td>0.779568</td>\n",
       "      <td>-0.682628</td>\n",
       "      <td>0.294881</td>\n",
       "      <td>0.0</td>\n",
       "      <td>0.0</td>\n",
       "      <td>0.0</td>\n",
       "      <td>1.0</td>\n",
       "      <td>0.67</td>\n",
       "    </tr>\n",
       "    <tr>\n",
       "      <th>39</th>\n",
       "      <td>NaN</td>\n",
       "      <td>NaN</td>\n",
       "      <td>0.786143</td>\n",
       "      <td>-0.679253</td>\n",
       "      <td>0.276656</td>\n",
       "      <td>0.0</td>\n",
       "      <td>0.0</td>\n",
       "      <td>0.0</td>\n",
       "      <td>1.0</td>\n",
       "      <td>0.67</td>\n",
       "    </tr>\n",
       "    <tr>\n",
       "      <th>...</th>\n",
       "      <td>...</td>\n",
       "      <td>...</td>\n",
       "      <td>...</td>\n",
       "      <td>...</td>\n",
       "      <td>...</td>\n",
       "      <td>...</td>\n",
       "      <td>...</td>\n",
       "      <td>...</td>\n",
       "      <td>...</td>\n",
       "      <td>...</td>\n",
       "    </tr>\n",
       "    <tr>\n",
       "      <th>1835</th>\n",
       "      <td>NaN</td>\n",
       "      <td>NaN</td>\n",
       "      <td>NaN</td>\n",
       "      <td>NaN</td>\n",
       "      <td>NaN</td>\n",
       "      <td>0.0</td>\n",
       "      <td>0.0</td>\n",
       "      <td>0.0</td>\n",
       "      <td>0.0</td>\n",
       "      <td>NaN</td>\n",
       "    </tr>\n",
       "    <tr>\n",
       "      <th>2033</th>\n",
       "      <td>NaN</td>\n",
       "      <td>NaN</td>\n",
       "      <td>NaN</td>\n",
       "      <td>NaN</td>\n",
       "      <td>NaN</td>\n",
       "      <td>0.0</td>\n",
       "      <td>0.0</td>\n",
       "      <td>0.0</td>\n",
       "      <td>0.0</td>\n",
       "      <td>NaN</td>\n",
       "    </tr>\n",
       "    <tr>\n",
       "      <th>2097</th>\n",
       "      <td>NaN</td>\n",
       "      <td>NaN</td>\n",
       "      <td>NaN</td>\n",
       "      <td>NaN</td>\n",
       "      <td>NaN</td>\n",
       "      <td>0.0</td>\n",
       "      <td>0.0</td>\n",
       "      <td>0.0</td>\n",
       "      <td>0.0</td>\n",
       "      <td>NaN</td>\n",
       "    </tr>\n",
       "    <tr>\n",
       "      <th>2121</th>\n",
       "      <td>NaN</td>\n",
       "      <td>NaN</td>\n",
       "      <td>NaN</td>\n",
       "      <td>NaN</td>\n",
       "      <td>NaN</td>\n",
       "      <td>0.0</td>\n",
       "      <td>0.0</td>\n",
       "      <td>0.0</td>\n",
       "      <td>0.0</td>\n",
       "      <td>NaN</td>\n",
       "    </tr>\n",
       "    <tr>\n",
       "      <th>2234</th>\n",
       "      <td>NaN</td>\n",
       "      <td>NaN</td>\n",
       "      <td>NaN</td>\n",
       "      <td>NaN</td>\n",
       "      <td>NaN</td>\n",
       "      <td>0.0</td>\n",
       "      <td>0.0</td>\n",
       "      <td>0.0</td>\n",
       "      <td>0.0</td>\n",
       "      <td>NaN</td>\n",
       "    </tr>\n",
       "  </tbody>\n",
       "</table>\n",
       "<p>156 rows × 10 columns</p>\n",
       "</div>"
      ],
      "text/plain": [
       "      location:raw_latitude  location:raw_longitude  raw_acc:3d:mean_x  \\\n",
       "33                      NaN                     NaN           0.153591   \n",
       "36                      NaN                     NaN           0.767498   \n",
       "37                      NaN                     NaN           0.770958   \n",
       "38                      NaN                     NaN           0.779568   \n",
       "39                      NaN                     NaN           0.786143   \n",
       "...                     ...                     ...                ...   \n",
       "1835                    NaN                     NaN                NaN   \n",
       "2033                    NaN                     NaN                NaN   \n",
       "2097                    NaN                     NaN                NaN   \n",
       "2121                    NaN                     NaN                NaN   \n",
       "2234                    NaN                     NaN                NaN   \n",
       "\n",
       "      raw_acc:3d:mean_y  raw_acc:3d:mean_z  discrete:app_state:is_active  \\\n",
       "33             0.317961           0.754153                           0.0   \n",
       "36            -0.712873           0.260261                           0.0   \n",
       "37            -0.694803           0.289361                           0.0   \n",
       "38            -0.682628           0.294881                           0.0   \n",
       "39            -0.679253           0.276656                           0.0   \n",
       "...                 ...                ...                           ...   \n",
       "1835                NaN                NaN                           0.0   \n",
       "2033                NaN                NaN                           0.0   \n",
       "2097                NaN                NaN                           0.0   \n",
       "2121                NaN                NaN                           0.0   \n",
       "2234                NaN                NaN                           0.0   \n",
       "\n",
       "      discrete:app_state:is_inactive  discrete:app_state:is_background  \\\n",
       "33                               0.0                               0.0   \n",
       "36                               0.0                               0.0   \n",
       "37                               0.0                               0.0   \n",
       "38                               0.0                               0.0   \n",
       "39                               0.0                               0.0   \n",
       "...                              ...                               ...   \n",
       "1835                             0.0                               0.0   \n",
       "2033                             0.0                               0.0   \n",
       "2097                             0.0                               0.0   \n",
       "2121                             0.0                               0.0   \n",
       "2234                             0.0                               0.0   \n",
       "\n",
       "      discrete:app_state:missing  lf_measurements:battery_level  \n",
       "33                           1.0                           0.69  \n",
       "36                           1.0                           0.67  \n",
       "37                           1.0                           0.67  \n",
       "38                           1.0                           0.67  \n",
       "39                           1.0                           0.67  \n",
       "...                          ...                            ...  \n",
       "1835                         0.0                            NaN  \n",
       "2033                         0.0                            NaN  \n",
       "2097                         0.0                            NaN  \n",
       "2121                         0.0                            NaN  \n",
       "2234                         0.0                            NaN  \n",
       "\n",
       "[156 rows x 10 columns]"
      ]
     },
     "execution_count": 267,
     "metadata": {},
     "output_type": "execute_result"
    }
   ],
   "source": [
    "sen[subject].loc[sen[subject]['location:raw_latitude'].isna()]"
   ]
  },
  {
   "cell_type": "code",
   "execution_count": 309,
   "metadata": {},
   "outputs": [],
   "source": [
    "# Forward filling: Assume the missing value occurs at tn, fill in the value using tn-1. \n",
    "forward = sen[subject].copy()\n",
    "\n",
    "for entry in range(1, len(forward['location:raw_latitude'])):\n",
    "    if pd.isna(forward['location:raw_latitude'][entry]):\n",
    "        forward['location:raw_latitude'][entry] = forward['location:raw_latitude'][entry-1]"
   ]
  },
  {
   "cell_type": "code",
   "execution_count": 310,
   "metadata": {},
   "outputs": [
    {
     "data": {
      "text/plain": [
       "False"
      ]
     },
     "execution_count": 310,
     "metadata": {},
     "output_type": "execute_result"
    }
   ],
   "source": [
    "forward['location:raw_latitude'].isna().any()"
   ]
  },
  {
   "cell_type": "code",
   "execution_count": 321,
   "metadata": {},
   "outputs": [
    {
     "data": {
      "text/plain": [
       "False"
      ]
     },
     "execution_count": 321,
     "metadata": {},
     "output_type": "execute_result"
    }
   ],
   "source": [
    "# Backward filling: Assume the missing value occurs at tn, fill in the value using tn+1.\n",
    "backward = sen[subject].copy()\n",
    "\n",
    "for entry in range(len(backward['location:raw_latitude'])-1, 0, -1): # step back\n",
    "    if pd.isna(backward['location:raw_latitude'][entry]):\n",
    "        backward['location:raw_latitude'][entry] = backward['location:raw_latitude'][entry+1]\n",
    "    \n",
    "backward['location:raw_latitude'].isna().any()"
   ]
  },
  {
   "cell_type": "code",
   "execution_count": 429,
   "metadata": {},
   "outputs": [
    {
     "data": {
      "text/plain": [
       "156"
      ]
     },
     "execution_count": 429,
     "metadata": {},
     "output_type": "execute_result"
    }
   ],
   "source": [
    "# Linear interpolation: For each CHUNK of missing values, perform linear interpolation with\n",
    "# the value of one sample before the missing chunk, and one value after the missing chunk.\n",
    "\n",
    "interp = sen[subject].copy()\n",
    "interp['location:raw_latitude'].isna().sum()"
   ]
  },
  {
   "cell_type": "code",
   "execution_count": 362,
   "metadata": {
    "scrolled": true
   },
   "outputs": [
    {
     "data": {
      "text/plain": [
       "32.882301"
      ]
     },
     "execution_count": 362,
     "metadata": {},
     "output_type": "execute_result"
    }
   ],
   "source": [
    "sen[subject]['location:raw_latitude'][0] # doesn't start null"
   ]
  },
  {
   "cell_type": "code",
   "execution_count": 430,
   "metadata": {
    "scrolled": false
   },
   "outputs": [
    {
     "data": {
      "text/plain": [
       "0"
      ]
     },
     "execution_count": 430,
     "metadata": {},
     "output_type": "execute_result"
    }
   ],
   "source": [
    "start = False # True when in middle of chunk of nulls\n",
    "for current in range(1, len(interp['location:raw_latitude'])):\n",
    "    if (start==False) & (pd.isna(interp['location:raw_latitude'][current])): # find first null value in a chunk\n",
    "        start = current # save location\n",
    "    if (start!=False) & (pd.isna(interp['location:raw_latitude'][current]) != True): # find next non-null value index\n",
    "        steps = current - start # number of indices to step through\n",
    "        if interp['location:raw_latitude'][current] > interp['location:raw_latitude'][start-1]: # step up\n",
    "            rng = interp['location:raw_latitude'][current] - interp['location:raw_latitude'][start-1]\n",
    "            inc = rng/steps\n",
    "            new_val = interp['location:raw_latitude'][start-1] + inc\n",
    "            for i in range(start,current): # loop through again to fill\n",
    "                interp['location:raw_latitude'][i] = new_val\n",
    "                new_val += inc # step up in equal increments\n",
    "        if interp['location:raw_latitude'][current] < interp['location:raw_latitude'][start-1]: # step down\n",
    "            rng = interp['location:raw_latitude'][start-1] - interp['location:raw_latitude'][current]\n",
    "            inc = rng/steps\n",
    "            new_val = interp['location:raw_latitude'][start-1] - inc\n",
    "            for i in range(start,current):\n",
    "                interp['location:raw_latitude'][i] = new_val\n",
    "                new_val -= inc # step down in equal increments\n",
    "        else: # they are the same\n",
    "            for i in range(start,current):\n",
    "                interp['location:raw_latitude'][i] = interp['location:raw_latitude'][current]\n",
    "        \n",
    "        start=False # reset for next chunk\n",
    "        \n",
    "interp['location:raw_latitude'].isna().sum() # yay"
   ]
  },
  {
   "cell_type": "code",
   "execution_count": 435,
   "metadata": {
    "scrolled": false
   },
   "outputs": [
    {
     "data": {
      "image/png": "[encoded data removed]",
      "text/plain": [
       "<Figure size 1080x576 with 1 Axes>"
      ]
     },
     "metadata": {
      "needs_background": "light"
     },
     "output_type": "display_data"
    }
   ],
   "source": [
    "# Produce a figure with 4 traces overlaid on each other\n",
    "# (4 traces including the original, unfilled trace and trace produced by your three filling methods)\n",
    "\n",
    "plt.figure(figsize=(15,8))\n",
    "plt.plot(sen[subject]['location:raw_latitude'],label = \"original\", linestyle=\"-\", alpha=0.7)\n",
    "plt.plot(forward['location:raw_latitude'], label = \"forward-filling\", linestyle=\"--\", alpha=0.7)\n",
    "plt.plot(backward['location:raw_latitude'],label = \"backward-filling\", linestyle=\"-.\", alpha=0.7)\n",
    "plt.plot(interp['location:raw_latitude'], label = \"linear interpolation\", linestyle=\":\", alpha=0.7)\n",
    "plt.legend(); # hard to see..."
   ]
  },
  {
   "cell_type": "code",
   "execution_count": 440,
   "metadata": {},
   "outputs": [
    {
     "data": {
      "image/png": "[encoded data removed]",
      "text/plain": [
       "<Figure size 720x576 with 1 Axes>"
      ]
     },
     "metadata": {
      "needs_background": "light"
     },
     "output_type": "display_data"
    }
   ],
   "source": [
    "# orig & forward-fill\n",
    "plt.figure(figsize=(10,8))\n",
    "plt.plot(sen[subject]['location:raw_latitude'],label = \"original\", linestyle=\"-\", alpha=0.7, color = \"yellow\")\n",
    "plt.plot(forward['location:raw_latitude'], label = \"forward-filling\", linestyle=\":\", alpha=0.7);"
   ]
  },
  {
   "cell_type": "code",
   "execution_count": 441,
   "metadata": {},
   "outputs": [
    {
     "data": {
      "image/png": "[encoded data removed]",
      "text/plain": [
       "<Figure size 720x576 with 1 Axes>"
      ]
     },
     "metadata": {
      "needs_background": "light"
     },
     "output_type": "display_data"
    }
   ],
   "source": [
    "# orig & backward-fill\n",
    "plt.figure(figsize=(10,8))\n",
    "plt.plot(sen[subject]['location:raw_latitude'],label = \"original\", linestyle=\"-\", alpha=0.7, color = \"yellow\")\n",
    "plt.plot(backward['location:raw_latitude'], label = \"backward-filling\", linestyle=\":\", alpha=0.7);"
   ]
  },
  {
   "cell_type": "code",
   "execution_count": 442,
   "metadata": {},
   "outputs": [
    {
     "data": {
      "image/png": "[encoded data removed]",
      "text/plain": [
       "<Figure size 720x576 with 1 Axes>"
      ]
     },
     "metadata": {
      "needs_background": "light"
     },
     "output_type": "display_data"
    }
   ],
   "source": [
    "# orig & linear interpolation\n",
    "plt.figure(figsize=(10,8))\n",
    "plt.plot(sen[subject]['location:raw_latitude'],label = \"original\", linestyle=\"-\", alpha=0.7, color = \"yellow\")\n",
    "plt.plot(interp['location:raw_latitude'], label = \"linear interpolation\", linestyle=\":\", alpha=0.7);"
   ]
  },
  {
   "cell_type": "code",
   "execution_count": 443,
   "metadata": {},
   "outputs": [
    {
     "data": {
      "image/png": "[encoded data removed]",
      "text/plain": [
       "<Figure size 720x576 with 1 Axes>"
      ]
     },
     "metadata": {
      "needs_background": "light"
     },
     "output_type": "display_data"
    }
   ],
   "source": [
    "# back & forward-fill: pretty much the same\n",
    "plt.figure(figsize=(10,8))\n",
    "plt.plot(backward['location:raw_latitude'],label = \"backward-filling\", linestyle=\"-\", alpha=0.7, color = \"yellow\")\n",
    "plt.plot(forward['location:raw_latitude'], label = \"forward-filling\", linestyle=\":\", alpha=0.7);"
   ]
  },
  {
   "cell_type": "code",
   "execution_count": 444,
   "metadata": {},
   "outputs": [
    {
     "data": {
      "image/png": "[encoded data removed]",
      "text/plain": [
       "<Figure size 720x576 with 1 Axes>"
      ]
     },
     "metadata": {
      "needs_background": "light"
     },
     "output_type": "display_data"
    }
   ],
   "source": [
    "# back & linear interp\n",
    "plt.figure(figsize=(10,8))\n",
    "plt.plot(backward['location:raw_latitude'],label = \"backward-filling\", linestyle=\"-\", alpha=0.7, color = \"yellow\")\n",
    "plt.plot(interp['location:raw_latitude'], label = \"interpolation\", linestyle=\":\", alpha=0.7);"
   ]
  },
  {
   "cell_type": "markdown",
   "metadata": {},
   "source": [
    "Compare the 4 traces. What do you see? If you were to use this dataset for further analysis, which filling method will you choose? \n"
   ]
  },
  {
   "cell_type": "markdown",
   "metadata": {},
   "source": [
    "*ANSWER:* They all look pretty good! If I were to use this dataset for further analysis, I would probably choose  linear interpolation just because it was fun to implement and seems like it would be the most accurate based on common sense."
   ]
  },
  {
   "cell_type": "code",
   "execution_count": null,
   "metadata": {},
   "outputs": [],
   "source": []
  }
 ],
 "metadata": {
  "kernelspec": {
   "display_name": "Python 3",
   "language": "python",
   "name": "python3"
  },
  "language_info": {
   "codemirror_mode": {
    "name": "ipython",
    "version": 3
   },
   "file_extension": ".py",
   "mimetype": "text/x-python",
   "name": "python",
   "nbconvert_exporter": "python",
   "pygments_lexer": "ipython3",
   "version": "3.8.5"
  }
 },
 "nbformat": 4,
 "nbformat_minor": 5
}
